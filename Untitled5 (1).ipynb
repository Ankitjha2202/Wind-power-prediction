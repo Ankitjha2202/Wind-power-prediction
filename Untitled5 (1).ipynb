{
  "nbformat": 4,
  "nbformat_minor": 0,
  "metadata": {
    "colab": {
      "provenance": []
    },
    "kernelspec": {
      "name": "python3",
      "display_name": "Python 3"
    },
    "language_info": {
      "name": "python"
    },
    "accelerator": "GPU",
    "gpuClass": "standard",
    "widgets": {
      "application/vnd.jupyter.widget-state+json": {
        "38d015d5173f4ecb83ebec4460ce5e6b": {
          "model_module": "catboost-widget",
          "model_name": "CatboostWidgetModel",
          "model_module_version": "^1.0.0",
          "state": {
            "_dom_classes": [],
            "_model_module": "catboost-widget",
            "_model_module_version": "^1.0.0",
            "_model_name": "CatboostWidgetModel",
            "_view_count": null,
            "_view_module": "catboost-widget",
            "_view_module_version": "^1.0.0",
            "_view_name": "CatboostWidgetView",
            "data": {
              "catboost_info": {
                "path": "catboost_info",
                "name": "catboost_info",
                "content": {
                  "passed_iterations": 999,
                  "total_iterations": 1000,
                  "data": {
                    "iterations": [
                      {
                        "learn": [
                          2.492632888
                        ],
                        "iteration": 0,
                        "passed_time": 0.05018241788,
                        "remaining_time": 50.13223546
                      },
                      {
                        "learn": [
                          2.378252212
                        ],
                        "iteration": 1,
                        "passed_time": 0.05297379353,
                        "remaining_time": 26.43392297
                      },
                      {
                        "learn": [
                          2.272253952
                        ],
                        "iteration": 2,
                        "passed_time": 0.0557566511,
                        "remaining_time": 18.52979372
                      },
                      {
                        "learn": [
                          2.164554624
                        ],
                        "iteration": 3,
                        "passed_time": 0.05934751219,
                        "remaining_time": 14.77753053
                      },
                      {
                        "learn": [
                          2.072206409
                        ],
                        "iteration": 4,
                        "passed_time": 0.06279291493,
                        "remaining_time": 12.49579007
                      },
                      {
                        "learn": [
                          1.987045457
                        ],
                        "iteration": 5,
                        "passed_time": 0.0654874117,
                        "remaining_time": 10.8490812
                      },
                      {
                        "learn": [
                          1.914408406
                        ],
                        "iteration": 6,
                        "passed_time": 0.06817884592,
                        "remaining_time": 9.671656285
                      },
                      {
                        "learn": [
                          1.832712185
                        ],
                        "iteration": 7,
                        "passed_time": 0.07084351894,
                        "remaining_time": 8.784596349
                      },
                      {
                        "learn": [
                          1.766324667
                        ],
                        "iteration": 8,
                        "passed_time": 0.07372519232,
                        "remaining_time": 8.117962843
                      },
                      {
                        "learn": [
                          1.694886015
                        ],
                        "iteration": 9,
                        "passed_time": 0.07864205678,
                        "remaining_time": 7.785563622
                      },
                      {
                        "learn": [
                          1.639121039
                        ],
                        "iteration": 10,
                        "passed_time": 0.08134541163,
                        "remaining_time": 7.313692009
                      },
                      {
                        "learn": [
                          1.586980817
                        ],
                        "iteration": 11,
                        "passed_time": 0.08412840354,
                        "remaining_time": 6.926571892
                      },
                      {
                        "learn": [
                          1.526393533
                        ],
                        "iteration": 12,
                        "passed_time": 0.08689484971,
                        "remaining_time": 6.597324359
                      },
                      {
                        "learn": [
                          1.471899017
                        ],
                        "iteration": 13,
                        "passed_time": 0.08959021819,
                        "remaining_time": 6.309711081
                      },
                      {
                        "learn": [
                          1.4179989
                        ],
                        "iteration": 14,
                        "passed_time": 0.09248681518,
                        "remaining_time": 6.073300864
                      },
                      {
                        "learn": [
                          1.370802788
                        ],
                        "iteration": 15,
                        "passed_time": 0.09530865022,
                        "remaining_time": 5.861481988
                      },
                      {
                        "learn": [
                          1.325039676
                        ],
                        "iteration": 16,
                        "passed_time": 0.09810515012,
                        "remaining_time": 5.672786033
                      },
                      {
                        "learn": [
                          1.278330092
                        ],
                        "iteration": 17,
                        "passed_time": 0.1034742419,
                        "remaining_time": 5.645094751
                      },
                      {
                        "learn": [
                          1.232932478
                        ],
                        "iteration": 18,
                        "passed_time": 0.1062286957,
                        "remaining_time": 5.484755287
                      },
                      {
                        "learn": [
                          1.199549266
                        ],
                        "iteration": 19,
                        "passed_time": 0.1089027976,
                        "remaining_time": 5.336237084
                      },
                      {
                        "learn": [
                          1.164548832
                        ],
                        "iteration": 20,
                        "passed_time": 0.111632718,
                        "remaining_time": 5.204210998
                      },
                      {
                        "learn": [
                          1.131158128
                        ],
                        "iteration": 21,
                        "passed_time": 0.1144930358,
                        "remaining_time": 5.089735862
                      },
                      {
                        "learn": [
                          1.101671502
                        ],
                        "iteration": 22,
                        "passed_time": 0.1172312034,
                        "remaining_time": 4.979777639
                      },
                      {
                        "learn": [
                          1.073929554
                        ],
                        "iteration": 23,
                        "passed_time": 0.1199282357,
                        "remaining_time": 4.877081586
                      },
                      {
                        "learn": [
                          1.052456056
                        ],
                        "iteration": 24,
                        "passed_time": 0.1227397001,
                        "remaining_time": 4.786848304
                      },
                      {
                        "learn": [
                          1.03013313
                        ],
                        "iteration": 25,
                        "passed_time": 0.1255628299,
                        "remaining_time": 4.703776782
                      },
                      {
                        "learn": [
                          1.006212577
                        ],
                        "iteration": 26,
                        "passed_time": 0.1285273499,
                        "remaining_time": 4.631744867
                      },
                      {
                        "learn": [
                          0.9813760886
                        ],
                        "iteration": 27,
                        "passed_time": 0.1312497074,
                        "remaining_time": 4.556239841
                      },
                      {
                        "learn": [
                          0.9579616788
                        ],
                        "iteration": 28,
                        "passed_time": 0.1340550223,
                        "remaining_time": 4.488531953
                      },
                      {
                        "learn": [
                          0.9379092338
                        ],
                        "iteration": 29,
                        "passed_time": 0.1367339311,
                        "remaining_time": 4.421063773
                      },
                      {
                        "learn": [
                          0.919651491
                        ],
                        "iteration": 30,
                        "passed_time": 0.1394106817,
                        "remaining_time": 4.357708083
                      },
                      {
                        "learn": [
                          0.9046625253
                        ],
                        "iteration": 31,
                        "passed_time": 0.142407611,
                        "remaining_time": 4.307830233
                      },
                      {
                        "learn": [
                          0.888337947
                        ],
                        "iteration": 32,
                        "passed_time": 0.1450688415,
                        "remaining_time": 4.250956658
                      },
                      {
                        "learn": [
                          0.8741879645
                        ],
                        "iteration": 33,
                        "passed_time": 0.1477329984,
                        "remaining_time": 4.197355191
                      },
                      {
                        "learn": [
                          0.8622062347
                        ],
                        "iteration": 34,
                        "passed_time": 0.150568861,
                        "remaining_time": 4.151398596
                      },
                      {
                        "learn": [
                          0.8469862517
                        ],
                        "iteration": 35,
                        "passed_time": 0.1534711861,
                        "remaining_time": 4.109617318
                      },
                      {
                        "learn": [
                          0.8355551349
                        ],
                        "iteration": 36,
                        "passed_time": 0.1561884894,
                        "remaining_time": 4.065122035
                      },
                      {
                        "learn": [
                          0.8229848463
                        ],
                        "iteration": 37,
                        "passed_time": 0.1589833498,
                        "remaining_time": 4.024789013
                      },
                      {
                        "learn": [
                          0.8139055997
                        ],
                        "iteration": 38,
                        "passed_time": 0.1618744951,
                        "remaining_time": 3.988753585
                      },
                      {
                        "learn": [
                          0.799268562
                        ],
                        "iteration": 39,
                        "passed_time": 0.1646753875,
                        "remaining_time": 3.952209301
                      },
                      {
                        "learn": [
                          0.7877604064
                        ],
                        "iteration": 40,
                        "passed_time": 0.167331219,
                        "remaining_time": 3.913918025
                      },
                      {
                        "learn": [
                          0.7776787865
                        ],
                        "iteration": 41,
                        "passed_time": 0.1699858101,
                        "remaining_time": 3.877295382
                      },
                      {
                        "learn": [
                          0.7695627786
                        ],
                        "iteration": 42,
                        "passed_time": 0.1726947052,
                        "remaining_time": 3.84346123
                      },
                      {
                        "learn": [
                          0.7626171306
                        ],
                        "iteration": 43,
                        "passed_time": 0.1754110442,
                        "remaining_time": 3.811203596
                      },
                      {
                        "learn": [
                          0.7565843051
                        ],
                        "iteration": 44,
                        "passed_time": 0.1780733177,
                        "remaining_time": 3.779111519
                      },
                      {
                        "learn": [
                          0.7457313355
                        ],
                        "iteration": 45,
                        "passed_time": 0.1809596266,
                        "remaining_time": 3.7529453
                      },
                      {
                        "learn": [
                          0.7389269043
                        ],
                        "iteration": 46,
                        "passed_time": 0.1837202851,
                        "remaining_time": 3.72522195
                      },
                      {
                        "learn": [
                          0.7322455438
                        ],
                        "iteration": 47,
                        "passed_time": 0.1863453645,
                        "remaining_time": 3.69584973
                      },
                      {
                        "learn": [
                          0.7254375665
                        ],
                        "iteration": 48,
                        "passed_time": 0.1889016141,
                        "remaining_time": 3.666233368
                      },
                      {
                        "learn": [
                          0.7191717149
                        ],
                        "iteration": 49,
                        "passed_time": 0.1917206123,
                        "remaining_time": 3.642691633
                      },
                      {
                        "learn": [
                          0.7121316973
                        ],
                        "iteration": 50,
                        "passed_time": 0.1944054623,
                        "remaining_time": 3.617466347
                      },
                      {
                        "learn": [
                          0.7073866621
                        ],
                        "iteration": 51,
                        "passed_time": 0.1970257806,
                        "remaining_time": 3.591931538
                      },
                      {
                        "learn": [
                          0.7016237077
                        ],
                        "iteration": 52,
                        "passed_time": 0.1996944913,
                        "remaining_time": 3.5681261
                      },
                      {
                        "learn": [
                          0.6960246005
                        ],
                        "iteration": 53,
                        "passed_time": 0.2024935968,
                        "remaining_time": 3.547387826
                      },
                      {
                        "learn": [
                          0.6896209769
                        ],
                        "iteration": 54,
                        "passed_time": 0.2051549503,
                        "remaining_time": 3.524935056
                      },
                      {
                        "learn": [
                          0.6843850272
                        ],
                        "iteration": 55,
                        "passed_time": 0.2078653181,
                        "remaining_time": 3.504015362
                      },
                      {
                        "learn": [
                          0.6794237411
                        ],
                        "iteration": 56,
                        "passed_time": 0.2106216858,
                        "remaining_time": 3.484495608
                      },
                      {
                        "learn": [
                          0.676214475
                        ],
                        "iteration": 57,
                        "passed_time": 0.2131982136,
                        "remaining_time": 3.462633056
                      },
                      {
                        "learn": [
                          0.67347503
                        ],
                        "iteration": 58,
                        "passed_time": 0.2158574472,
                        "remaining_time": 3.442743353
                      },
                      {
                        "learn": [
                          0.6674805037
                        ],
                        "iteration": 59,
                        "passed_time": 0.2186202982,
                        "remaining_time": 3.425051339
                      },
                      {
                        "learn": [
                          0.6634110235
                        ],
                        "iteration": 60,
                        "passed_time": 0.2214870345,
                        "remaining_time": 3.409447958
                      },
                      {
                        "learn": [
                          0.6593667268
                        ],
                        "iteration": 61,
                        "passed_time": 0.2241431725,
                        "remaining_time": 3.391069287
                      },
                      {
                        "learn": [
                          0.6564907709
                        ],
                        "iteration": 62,
                        "passed_time": 0.2268485651,
                        "remaining_time": 3.37392231
                      },
                      {
                        "learn": [
                          0.6535376957
                        ],
                        "iteration": 63,
                        "passed_time": 0.2295912705,
                        "remaining_time": 3.357772331
                      },
                      {
                        "learn": [
                          0.6502848986
                        ],
                        "iteration": 64,
                        "passed_time": 0.2322828786,
                        "remaining_time": 3.341299869
                      },
                      {
                        "learn": [
                          0.6471759702
                        ],
                        "iteration": 65,
                        "passed_time": 0.234946279,
                        "remaining_time": 3.324845828
                      },
                      {
                        "learn": [
                          0.6445473484
                        ],
                        "iteration": 66,
                        "passed_time": 0.2378986562,
                        "remaining_time": 3.312827556
                      },
                      {
                        "learn": [
                          0.6413641483
                        ],
                        "iteration": 67,
                        "passed_time": 0.2407544075,
                        "remaining_time": 3.299751585
                      },
                      {
                        "learn": [
                          0.6386205201
                        ],
                        "iteration": 68,
                        "passed_time": 0.2433943954,
                        "remaining_time": 3.28406061
                      },
                      {
                        "learn": [
                          0.6353886228
                        ],
                        "iteration": 69,
                        "passed_time": 0.2460519681,
                        "remaining_time": 3.268976148
                      },
                      {
                        "learn": [
                          0.6320431223
                        ],
                        "iteration": 70,
                        "passed_time": 0.2489388779,
                        "remaining_time": 3.257242501
                      },
                      {
                        "learn": [
                          0.6299729057
                        ],
                        "iteration": 71,
                        "passed_time": 0.251576308,
                        "remaining_time": 3.242539081
                      },
                      {
                        "learn": [
                          0.6274801944
                        ],
                        "iteration": 72,
                        "passed_time": 0.2542631345,
                        "remaining_time": 3.228793502
                      },
                      {
                        "learn": [
                          0.6256234406
                        ],
                        "iteration": 73,
                        "passed_time": 0.2567689321,
                        "remaining_time": 3.213081501
                      },
                      {
                        "learn": [
                          0.6232495211
                        ],
                        "iteration": 74,
                        "passed_time": 0.2595200264,
                        "remaining_time": 3.200746992
                      },
                      {
                        "learn": [
                          0.6214034229
                        ],
                        "iteration": 75,
                        "passed_time": 0.2621659054,
                        "remaining_time": 3.187385482
                      },
                      {
                        "learn": [
                          0.6184224732
                        ],
                        "iteration": 76,
                        "passed_time": 0.2650071405,
                        "remaining_time": 3.176644035
                      },
                      {
                        "learn": [
                          0.6159774259
                        ],
                        "iteration": 77,
                        "passed_time": 0.2676455906,
                        "remaining_time": 3.163708135
                      },
                      {
                        "learn": [
                          0.6141679404
                        ],
                        "iteration": 78,
                        "passed_time": 0.2721481396,
                        "remaining_time": 3.17276502
                      },
                      {
                        "learn": [
                          0.6106777015
                        ],
                        "iteration": 79,
                        "passed_time": 0.2748864911,
                        "remaining_time": 3.161194648
                      },
                      {
                        "learn": [
                          0.609014324
                        ],
                        "iteration": 80,
                        "passed_time": 0.2774667272,
                        "remaining_time": 3.148048423
                      },
                      {
                        "learn": [
                          0.6076559064
                        ],
                        "iteration": 81,
                        "passed_time": 0.280377806,
                        "remaining_time": 3.138863731
                      },
                      {
                        "learn": [
                          0.605661704
                        ],
                        "iteration": 82,
                        "passed_time": 0.283129409,
                        "remaining_time": 3.12806829
                      },
                      {
                        "learn": [
                          0.6035857308
                        ],
                        "iteration": 83,
                        "passed_time": 0.2858209511,
                        "remaining_time": 3.116809419
                      },
                      {
                        "learn": [
                          0.6015394139
                        ],
                        "iteration": 84,
                        "passed_time": 0.2889286455,
                        "remaining_time": 3.11023189
                      },
                      {
                        "learn": [
                          0.5990044367
                        ],
                        "iteration": 85,
                        "passed_time": 0.2917331635,
                        "remaining_time": 3.100512923
                      },
                      {
                        "learn": [
                          0.5977041575
                        ],
                        "iteration": 86,
                        "passed_time": 0.2942897891,
                        "remaining_time": 3.088351465
                      },
                      {
                        "learn": [
                          0.5961108836
                        ],
                        "iteration": 87,
                        "passed_time": 0.2970682355,
                        "remaining_time": 3.078707168
                      },
                      {
                        "learn": [
                          0.5935507483
                        ],
                        "iteration": 88,
                        "passed_time": 0.3000847822,
                        "remaining_time": 3.071654344
                      },
                      {
                        "learn": [
                          0.5919135272
                        ],
                        "iteration": 89,
                        "passed_time": 0.3026888869,
                        "remaining_time": 3.060520968
                      },
                      {
                        "learn": [
                          0.5895585315
                        ],
                        "iteration": 90,
                        "passed_time": 0.3053907926,
                        "remaining_time": 3.050551984
                      },
                      {
                        "learn": [
                          0.5886278646
                        ],
                        "iteration": 91,
                        "passed_time": 0.3081123471,
                        "remaining_time": 3.040934904
                      },
                      {
                        "learn": [
                          0.5876731622
                        ],
                        "iteration": 92,
                        "passed_time": 0.3107577305,
                        "remaining_time": 3.030723243
                      },
                      {
                        "learn": [
                          0.5862755105
                        ],
                        "iteration": 93,
                        "passed_time": 0.3134244374,
                        "remaining_time": 3.020878088
                      },
                      {
                        "learn": [
                          0.5845721221
                        ],
                        "iteration": 94,
                        "passed_time": 0.3162226143,
                        "remaining_time": 3.012436483
                      },
                      {
                        "learn": [
                          0.583368622
                        ],
                        "iteration": 95,
                        "passed_time": 0.3190558021,
                        "remaining_time": 3.004442136
                      },
                      {
                        "learn": [
                          0.5820036991
                        ],
                        "iteration": 96,
                        "passed_time": 0.3217601839,
                        "remaining_time": 2.995355114
                      },
                      {
                        "learn": [
                          0.5810346892
                        ],
                        "iteration": 97,
                        "passed_time": 0.3245088074,
                        "remaining_time": 2.986805553
                      },
                      {
                        "learn": [
                          0.579758205
                        ],
                        "iteration": 98,
                        "passed_time": 0.3271474922,
                        "remaining_time": 2.977372631
                      },
                      {
                        "learn": [
                          0.578781955
                        ],
                        "iteration": 99,
                        "passed_time": 0.3298937288,
                        "remaining_time": 2.969043559
                      },
                      {
                        "learn": [
                          0.5775744516
                        ],
                        "iteration": 100,
                        "passed_time": 0.3325747502,
                        "remaining_time": 2.960244559
                      },
                      {
                        "learn": [
                          0.5770007206
                        ],
                        "iteration": 101,
                        "passed_time": 0.3351944115,
                        "remaining_time": 2.951025309
                      },
                      {
                        "learn": [
                          0.576052151
                        ],
                        "iteration": 102,
                        "passed_time": 0.3378420897,
                        "remaining_time": 2.942178198
                      },
                      {
                        "learn": [
                          0.5750263999
                        ],
                        "iteration": 103,
                        "passed_time": 0.3404943082,
                        "remaining_time": 2.933489424
                      },
                      {
                        "learn": [
                          0.5737040124
                        ],
                        "iteration": 104,
                        "passed_time": 0.3434059249,
                        "remaining_time": 2.927126693
                      },
                      {
                        "learn": [
                          0.5725155129
                        ],
                        "iteration": 105,
                        "passed_time": 0.3459920882,
                        "remaining_time": 2.918084215
                      },
                      {
                        "learn": [
                          0.571166981
                        ],
                        "iteration": 106,
                        "passed_time": 0.348764262,
                        "remaining_time": 2.910714823
                      },
                      {
                        "learn": [
                          0.5705290098
                        ],
                        "iteration": 107,
                        "passed_time": 0.3514651469,
                        "remaining_time": 2.902841769
                      },
                      {
                        "learn": [
                          0.5688296093
                        ],
                        "iteration": 108,
                        "passed_time": 0.3540326972,
                        "remaining_time": 2.893973699
                      },
                      {
                        "learn": [
                          0.5679893964
                        ],
                        "iteration": 109,
                        "passed_time": 0.3569715198,
                        "remaining_time": 2.888224115
                      },
                      {
                        "learn": [
                          0.5667058015
                        ],
                        "iteration": 110,
                        "passed_time": 0.359697289,
                        "remaining_time": 2.880818828
                      },
                      {
                        "learn": [
                          0.5656671008
                        ],
                        "iteration": 111,
                        "passed_time": 0.3622784728,
                        "remaining_time": 2.872350749
                      },
                      {
                        "learn": [
                          0.5643988158
                        ],
                        "iteration": 112,
                        "passed_time": 0.3649069549,
                        "remaining_time": 2.864358132
                      },
                      {
                        "learn": [
                          0.5634910602
                        ],
                        "iteration": 113,
                        "passed_time": 0.3677389966,
                        "remaining_time": 2.858041676
                      },
                      {
                        "learn": [
                          0.5627865144
                        ],
                        "iteration": 114,
                        "passed_time": 0.3704713092,
                        "remaining_time": 2.851018336
                      },
                      {
                        "learn": [
                          0.5621262811
                        ],
                        "iteration": 115,
                        "passed_time": 0.3731099223,
                        "remaining_time": 2.843354925
                      },
                      {
                        "learn": [
                          0.5613147773
                        ],
                        "iteration": 116,
                        "passed_time": 0.3757248802,
                        "remaining_time": 2.835598882
                      },
                      {
                        "learn": [
                          0.5602597769
                        ],
                        "iteration": 117,
                        "passed_time": 0.378401513,
                        "remaining_time": 2.82839097
                      },
                      {
                        "learn": [
                          0.5592603433
                        ],
                        "iteration": 118,
                        "passed_time": 0.3810753089,
                        "remaining_time": 2.821238211
                      },
                      {
                        "learn": [
                          0.5580145813
                        ],
                        "iteration": 119,
                        "passed_time": 0.3836426343,
                        "remaining_time": 2.813379319
                      },
                      {
                        "learn": [
                          0.5573983562
                        ],
                        "iteration": 120,
                        "passed_time": 0.3862900982,
                        "remaining_time": 2.806190052
                      },
                      {
                        "learn": [
                          0.5567694394
                        ],
                        "iteration": 121,
                        "passed_time": 0.3889000388,
                        "remaining_time": 2.798805197
                      },
                      {
                        "learn": [
                          0.5562280448
                        ],
                        "iteration": 122,
                        "passed_time": 0.3913906719,
                        "remaining_time": 2.790647311
                      },
                      {
                        "learn": [
                          0.555416541
                        ],
                        "iteration": 123,
                        "passed_time": 0.3939197216,
                        "remaining_time": 2.782852227
                      },
                      {
                        "learn": [
                          0.5545281771
                        ],
                        "iteration": 124,
                        "passed_time": 0.3966763619,
                        "remaining_time": 2.776734533
                      },
                      {
                        "learn": [
                          0.5533864384
                        ],
                        "iteration": 125,
                        "passed_time": 0.3992736998,
                        "remaining_time": 2.769565187
                      },
                      {
                        "learn": [
                          0.5523674073
                        ],
                        "iteration": 126,
                        "passed_time": 0.4017774213,
                        "remaining_time": 2.761824321
                      },
                      {
                        "learn": [
                          0.5513944875
                        ],
                        "iteration": 127,
                        "passed_time": 0.4043428498,
                        "remaining_time": 2.754585664
                      },
                      {
                        "learn": [
                          0.550546779
                        ],
                        "iteration": 128,
                        "passed_time": 0.4070270746,
                        "remaining_time": 2.748221566
                      },
                      {
                        "learn": [
                          0.5493994866
                        ],
                        "iteration": 129,
                        "passed_time": 0.4097300303,
                        "remaining_time": 2.742039434
                      },
                      {
                        "learn": [
                          0.5483750068
                        ],
                        "iteration": 130,
                        "passed_time": 0.4122442017,
                        "remaining_time": 2.734658101
                      },
                      {
                        "learn": [
                          0.5471564552
                        ],
                        "iteration": 131,
                        "passed_time": 0.414891772,
                        "remaining_time": 2.728227713
                      },
                      {
                        "learn": [
                          0.5466987125
                        ],
                        "iteration": 132,
                        "passed_time": 0.4175347046,
                        "remaining_time": 2.721823977
                      },
                      {
                        "learn": [
                          0.5460074978
                        ],
                        "iteration": 133,
                        "passed_time": 0.4201852292,
                        "remaining_time": 2.715525437
                      },
                      {
                        "learn": [
                          0.5454336918
                        ],
                        "iteration": 134,
                        "passed_time": 0.4227841257,
                        "remaining_time": 2.708950139
                      },
                      {
                        "learn": [
                          0.5448697797
                        ],
                        "iteration": 135,
                        "passed_time": 0.4254704535,
                        "remaining_time": 2.702988764
                      },
                      {
                        "learn": [
                          0.5444936796
                        ],
                        "iteration": 136,
                        "passed_time": 0.4280128938,
                        "remaining_time": 2.696168813
                      },
                      {
                        "learn": [
                          0.5434292505
                        ],
                        "iteration": 137,
                        "passed_time": 0.4305953172,
                        "remaining_time": 2.689660605
                      },
                      {
                        "learn": [
                          0.5424848015
                        ],
                        "iteration": 138,
                        "passed_time": 0.4332436784,
                        "remaining_time": 2.683617317
                      },
                      {
                        "learn": [
                          0.5416730416
                        ],
                        "iteration": 139,
                        "passed_time": 0.4360512411,
                        "remaining_time": 2.678600481
                      },
                      {
                        "learn": [
                          0.5409252322
                        ],
                        "iteration": 140,
                        "passed_time": 0.4385985096,
                        "remaining_time": 2.672029218
                      },
                      {
                        "learn": [
                          0.5403468363
                        ],
                        "iteration": 141,
                        "passed_time": 0.4411993913,
                        "remaining_time": 2.665838576
                      },
                      {
                        "learn": [
                          0.5399617113
                        ],
                        "iteration": 142,
                        "passed_time": 0.4437703871,
                        "remaining_time": 2.659519033
                      },
                      {
                        "learn": [
                          0.5393634049
                        ],
                        "iteration": 143,
                        "passed_time": 0.4465366398,
                        "remaining_time": 2.654412248
                      },
                      {
                        "learn": [
                          0.5389784853
                        ],
                        "iteration": 144,
                        "passed_time": 0.449052392,
                        "remaining_time": 2.647860656
                      },
                      {
                        "learn": [
                          0.5383924896
                        ],
                        "iteration": 145,
                        "passed_time": 0.4516750432,
                        "remaining_time": 2.641989637
                      },
                      {
                        "learn": [
                          0.5374094329
                        ],
                        "iteration": 146,
                        "passed_time": 0.4551153978,
                        "remaining_time": 2.640907717
                      },
                      {
                        "learn": [
                          0.5369732919
                        ],
                        "iteration": 147,
                        "passed_time": 0.4579857193,
                        "remaining_time": 2.636512384
                      },
                      {
                        "learn": [
                          0.5363969433
                        ],
                        "iteration": 148,
                        "passed_time": 0.460601622,
                        "remaining_time": 2.630684432
                      },
                      {
                        "learn": [
                          0.5359629179
                        ],
                        "iteration": 149,
                        "passed_time": 0.4631707483,
                        "remaining_time": 2.62463424
                      },
                      {
                        "learn": [
                          0.5356531154
                        ],
                        "iteration": 150,
                        "passed_time": 0.465822425,
                        "remaining_time": 2.619094297
                      },
                      {
                        "learn": [
                          0.5349855004
                        ],
                        "iteration": 151,
                        "passed_time": 0.4686045118,
                        "remaining_time": 2.614319908
                      },
                      {
                        "learn": [
                          0.5340818459
                        ],
                        "iteration": 152,
                        "passed_time": 0.4712206405,
                        "remaining_time": 2.608652827
                      },
                      {
                        "learn": [
                          0.5330242737
                        ],
                        "iteration": 153,
                        "passed_time": 0.4738278904,
                        "remaining_time": 2.602976593
                      },
                      {
                        "learn": [
                          0.5323864341
                        ],
                        "iteration": 154,
                        "passed_time": 0.4765920183,
                        "remaining_time": 2.598195197
                      },
                      {
                        "learn": [
                          0.5317375059
                        ],
                        "iteration": 155,
                        "passed_time": 0.4790749194,
                        "remaining_time": 2.591918154
                      },
                      {
                        "learn": [
                          0.5305029029
                        ],
                        "iteration": 156,
                        "passed_time": 0.4818203404,
                        "remaining_time": 2.587099025
                      },
                      {
                        "learn": [
                          0.5299644547
                        ],
                        "iteration": 157,
                        "passed_time": 0.4845910712,
                        "remaining_time": 2.582441025
                      },
                      {
                        "learn": [
                          0.5293238406
                        ],
                        "iteration": 158,
                        "passed_time": 0.4876419429,
                        "remaining_time": 2.579288516
                      },
                      {
                        "learn": [
                          0.528363052
                        ],
                        "iteration": 159,
                        "passed_time": 0.490752426,
                        "remaining_time": 2.576450236
                      },
                      {
                        "learn": [
                          0.5279650086
                        ],
                        "iteration": 160,
                        "passed_time": 0.4933260013,
                        "remaining_time": 2.570810653
                      },
                      {
                        "learn": [
                          0.5275049951
                        ],
                        "iteration": 161,
                        "passed_time": 0.4961663959,
                        "remaining_time": 2.566589135
                      },
                      {
                        "learn": [
                          0.5265307894
                        ],
                        "iteration": 162,
                        "passed_time": 0.4989777225,
                        "remaining_time": 2.562235299
                      },
                      {
                        "learn": [
                          0.5262354623
                        ],
                        "iteration": 163,
                        "passed_time": 0.5015733939,
                        "remaining_time": 2.556800959
                      },
                      {
                        "learn": [
                          0.5257355556
                        ],
                        "iteration": 164,
                        "passed_time": 0.5042531262,
                        "remaining_time": 2.551826426
                      },
                      {
                        "learn": [
                          0.5248440889
                        ],
                        "iteration": 165,
                        "passed_time": 0.5069176283,
                        "remaining_time": 2.546803024
                      },
                      {
                        "learn": [
                          0.5245039456
                        ],
                        "iteration": 166,
                        "passed_time": 0.5095611239,
                        "remaining_time": 2.541703091
                      },
                      {
                        "learn": [
                          0.5237890385
                        ],
                        "iteration": 167,
                        "passed_time": 0.5122453196,
                        "remaining_time": 2.536833964
                      },
                      {
                        "learn": [
                          0.5232770219
                        ],
                        "iteration": 168,
                        "passed_time": 0.5149733913,
                        "remaining_time": 2.532206439
                      },
                      {
                        "learn": [
                          0.5227568061
                        ],
                        "iteration": 169,
                        "passed_time": 0.5178153012,
                        "remaining_time": 2.528157059
                      },
                      {
                        "learn": [
                          0.5224198684
                        ],
                        "iteration": 170,
                        "passed_time": 0.5203823997,
                        "remaining_time": 2.522789528
                      },
                      {
                        "learn": [
                          0.5220851511
                        ],
                        "iteration": 171,
                        "passed_time": 0.5229459835,
                        "remaining_time": 2.517437641
                      },
                      {
                        "learn": [
                          0.5214052674
                        ],
                        "iteration": 172,
                        "passed_time": 0.5256516409,
                        "remaining_time": 2.51279715
                      },
                      {
                        "learn": [
                          0.5208794571
                        ],
                        "iteration": 173,
                        "passed_time": 0.5282988112,
                        "remaining_time": 2.507901253
                      },
                      {
                        "learn": [
                          0.5200587617
                        ],
                        "iteration": 174,
                        "passed_time": 0.5308458619,
                        "remaining_time": 2.502559063
                      },
                      {
                        "learn": [
                          0.5195266268
                        ],
                        "iteration": 175,
                        "passed_time": 0.5336471603,
                        "remaining_time": 2.498438978
                      },
                      {
                        "learn": [
                          0.5183644422
                        ],
                        "iteration": 176,
                        "passed_time": 0.5364524775,
                        "remaining_time": 2.49435248
                      },
                      {
                        "learn": [
                          0.5173604197
                        ],
                        "iteration": 177,
                        "passed_time": 0.5390847472,
                        "remaining_time": 2.489481248
                      },
                      {
                        "learn": [
                          0.5161501055
                        ],
                        "iteration": 178,
                        "passed_time": 0.5417173892,
                        "remaining_time": 2.48463674
                      },
                      {
                        "learn": [
                          0.5156941893
                        ],
                        "iteration": 179,
                        "passed_time": 0.5444583524,
                        "remaining_time": 2.480310272
                      },
                      {
                        "learn": [
                          0.5149445412
                        ],
                        "iteration": 180,
                        "passed_time": 0.5471108839,
                        "remaining_time": 2.475601182
                      },
                      {
                        "learn": [
                          0.5146966133
                        ],
                        "iteration": 181,
                        "passed_time": 0.5496309025,
                        "remaining_time": 2.470319111
                      },
                      {
                        "learn": [
                          0.5143711349
                        ],
                        "iteration": 182,
                        "passed_time": 0.5521649256,
                        "remaining_time": 2.46512975
                      },
                      {
                        "learn": [
                          0.5136181236
                        ],
                        "iteration": 183,
                        "passed_time": 0.5549447215,
                        "remaining_time": 2.4610592
                      },
                      {
                        "learn": [
                          0.5127977754
                        ],
                        "iteration": 184,
                        "passed_time": 0.5576647912,
                        "remaining_time": 2.456739486
                      },
                      {
                        "learn": [
                          0.5122647037
                        ],
                        "iteration": 185,
                        "passed_time": 0.5603188692,
                        "remaining_time": 2.45214817
                      },
                      {
                        "learn": [
                          0.5116947189
                        ],
                        "iteration": 186,
                        "passed_time": 0.5629859344,
                        "remaining_time": 2.447634035
                      },
                      {
                        "learn": [
                          0.5109950811
                        ],
                        "iteration": 187,
                        "passed_time": 0.5656616015,
                        "remaining_time": 2.443176704
                      },
                      {
                        "learn": [
                          0.5103417107
                        ],
                        "iteration": 188,
                        "passed_time": 0.5682929552,
                        "remaining_time": 2.438548078
                      },
                      {
                        "learn": [
                          0.50991841
                        ],
                        "iteration": 189,
                        "passed_time": 0.5708276322,
                        "remaining_time": 2.433528327
                      },
                      {
                        "learn": [
                          0.509142994
                        ],
                        "iteration": 190,
                        "passed_time": 0.573520386,
                        "remaining_time": 2.429204148
                      },
                      {
                        "learn": [
                          0.5086228691
                        ],
                        "iteration": 191,
                        "passed_time": 0.5761499532,
                        "remaining_time": 2.424631053
                      },
                      {
                        "learn": [
                          0.507845228
                        ],
                        "iteration": 192,
                        "passed_time": 0.5788253003,
                        "remaining_time": 2.42026952
                      },
                      {
                        "learn": [
                          0.5069755015
                        ],
                        "iteration": 193,
                        "passed_time": 0.5814131736,
                        "remaining_time": 2.415561948
                      },
                      {
                        "learn": [
                          0.5059489811
                        ],
                        "iteration": 194,
                        "passed_time": 0.5843229038,
                        "remaining_time": 2.412204808
                      },
                      {
                        "learn": [
                          0.5054656864
                        ],
                        "iteration": 195,
                        "passed_time": 0.5870687817,
                        "remaining_time": 2.408180105
                      },
                      {
                        "learn": [
                          0.5048830037
                        ],
                        "iteration": 196,
                        "passed_time": 0.5897352216,
                        "remaining_time": 2.403844584
                      },
                      {
                        "learn": [
                          0.5040506003
                        ],
                        "iteration": 197,
                        "passed_time": 0.5924653642,
                        "remaining_time": 2.39978395
                      },
                      {
                        "learn": [
                          0.50360031
                        ],
                        "iteration": 198,
                        "passed_time": 0.595220325,
                        "remaining_time": 2.395836584
                      },
                      {
                        "learn": [
                          0.5028940663
                        ],
                        "iteration": 199,
                        "passed_time": 0.5978507443,
                        "remaining_time": 2.391402977
                      },
                      {
                        "learn": [
                          0.5019074539
                        ],
                        "iteration": 200,
                        "passed_time": 0.6006319063,
                        "remaining_time": 2.387586533
                      },
                      {
                        "learn": [
                          0.5012522735
                        ],
                        "iteration": 201,
                        "passed_time": 0.6032700677,
                        "remaining_time": 2.383215416
                      },
                      {
                        "learn": [
                          0.5006143113
                        ],
                        "iteration": 202,
                        "passed_time": 0.6060322087,
                        "remaining_time": 2.37934813
                      },
                      {
                        "learn": [
                          0.5000886169
                        ],
                        "iteration": 203,
                        "passed_time": 0.6086971048,
                        "remaining_time": 2.375112232
                      },
                      {
                        "learn": [
                          0.499656431
                        ],
                        "iteration": 204,
                        "passed_time": 0.6113128397,
                        "remaining_time": 2.370701012
                      },
                      {
                        "learn": [
                          0.499187502
                        ],
                        "iteration": 205,
                        "passed_time": 0.6142482228,
                        "remaining_time": 2.367539267
                      },
                      {
                        "learn": [
                          0.4986550959
                        ],
                        "iteration": 206,
                        "passed_time": 0.6169502055,
                        "remaining_time": 2.36348557
                      },
                      {
                        "learn": [
                          0.4982451285
                        ],
                        "iteration": 207,
                        "passed_time": 0.6197267336,
                        "remaining_time": 2.359728717
                      },
                      {
                        "learn": [
                          0.4977821618
                        ],
                        "iteration": 208,
                        "passed_time": 0.6225501495,
                        "remaining_time": 2.3561587
                      },
                      {
                        "learn": [
                          0.4968212188
                        ],
                        "iteration": 209,
                        "passed_time": 0.6251843432,
                        "remaining_time": 2.351883958
                      },
                      {
                        "learn": [
                          0.4964329147
                        ],
                        "iteration": 210,
                        "passed_time": 0.6277968294,
                        "remaining_time": 2.347543594
                      },
                      {
                        "learn": [
                          0.4959296552
                        ],
                        "iteration": 211,
                        "passed_time": 0.6303295599,
                        "remaining_time": 2.342923081
                      },
                      {
                        "learn": [
                          0.4954473897
                        ],
                        "iteration": 212,
                        "passed_time": 0.6331024499,
                        "remaining_time": 2.339209521
                      },
                      {
                        "learn": [
                          0.4946769552
                        ],
                        "iteration": 213,
                        "passed_time": 0.6357304302,
                        "remaining_time": 2.334972515
                      },
                      {
                        "learn": [
                          0.4939817665
                        ],
                        "iteration": 214,
                        "passed_time": 0.638370568,
                        "remaining_time": 2.330794865
                      },
                      {
                        "learn": [
                          0.4934574618
                        ],
                        "iteration": 215,
                        "passed_time": 0.6411332878,
                        "remaining_time": 2.327076378
                      },
                      {
                        "learn": [
                          0.4930467239
                        ],
                        "iteration": 216,
                        "passed_time": 0.6439729129,
                        "remaining_time": 2.323644197
                      },
                      {
                        "learn": [
                          0.4925355081
                        ],
                        "iteration": 217,
                        "passed_time": 0.646566136,
                        "remaining_time": 2.319333571
                      },
                      {
                        "learn": [
                          0.4919284963
                        ],
                        "iteration": 218,
                        "passed_time": 0.6494972558,
                        "remaining_time": 2.316243638
                      },
                      {
                        "learn": [
                          0.4915809002
                        ],
                        "iteration": 219,
                        "passed_time": 0.6525459219,
                        "remaining_time": 2.313571905
                      },
                      {
                        "learn": [
                          0.4912125269
                        ],
                        "iteration": 220,
                        "passed_time": 0.6551382577,
                        "remaining_time": 2.309288248
                      },
                      {
                        "learn": [
                          0.4907226843
                        ],
                        "iteration": 221,
                        "passed_time": 0.6578325992,
                        "remaining_time": 2.305377307
                      },
                      {
                        "learn": [
                          0.4905024648
                        ],
                        "iteration": 222,
                        "passed_time": 0.6605736716,
                        "remaining_time": 2.301640102
                      },
                      {
                        "learn": [
                          0.4897374785
                        ],
                        "iteration": 223,
                        "passed_time": 0.663296363,
                        "remaining_time": 2.297848115
                      },
                      {
                        "learn": [
                          0.4892070012
                        ],
                        "iteration": 224,
                        "passed_time": 0.6660291294,
                        "remaining_time": 2.294100335
                      },
                      {
                        "learn": [
                          0.4886277634
                        ],
                        "iteration": 225,
                        "passed_time": 0.6686412557,
                        "remaining_time": 2.289948371
                      },
                      {
                        "learn": [
                          0.4882908174
                        ],
                        "iteration": 226,
                        "passed_time": 0.6714692671,
                        "remaining_time": 2.286545125
                      },
                      {
                        "learn": [
                          0.4877383338
                        ],
                        "iteration": 227,
                        "passed_time": 0.6741762823,
                        "remaining_time": 2.282737237
                      },
                      {
                        "learn": [
                          0.4870943301
                        ],
                        "iteration": 228,
                        "passed_time": 0.6768321403,
                        "remaining_time": 2.278766726
                      },
                      {
                        "learn": [
                          0.4866613947
                        ],
                        "iteration": 229,
                        "passed_time": 0.6793921715,
                        "remaining_time": 2.274486835
                      },
                      {
                        "learn": [
                          0.4862637201
                        ],
                        "iteration": 230,
                        "passed_time": 0.6832291306,
                        "remaining_time": 2.274472734
                      },
                      {
                        "learn": [
                          0.4860400831
                        ],
                        "iteration": 231,
                        "passed_time": 0.68577479,
                        "remaining_time": 2.270151029
                      },
                      {
                        "learn": [
                          0.4856447782
                        ],
                        "iteration": 232,
                        "passed_time": 0.6886287526,
                        "remaining_time": 2.266859456
                      },
                      {
                        "learn": [
                          0.4850171521
                        ],
                        "iteration": 233,
                        "passed_time": 0.6913674233,
                        "remaining_time": 2.263194215
                      },
                      {
                        "learn": [
                          0.4848061039
                        ],
                        "iteration": 234,
                        "passed_time": 0.6943081037,
                        "remaining_time": 2.260194465
                      },
                      {
                        "learn": [
                          0.4844091717
                        ],
                        "iteration": 235,
                        "passed_time": 0.6970730647,
                        "remaining_time": 2.256626362
                      },
                      {
                        "learn": [
                          0.4840456853
                        ],
                        "iteration": 236,
                        "passed_time": 0.6997119169,
                        "remaining_time": 2.252659041
                      },
                      {
                        "learn": [
                          0.4836804929
                        ],
                        "iteration": 237,
                        "passed_time": 0.7024931011,
                        "remaining_time": 2.249158584
                      },
                      {
                        "learn": [
                          0.4833682262
                        ],
                        "iteration": 238,
                        "passed_time": 0.7051269269,
                        "remaining_time": 2.245194943
                      },
                      {
                        "learn": [
                          0.482919232
                        ],
                        "iteration": 239,
                        "passed_time": 0.7078542817,
                        "remaining_time": 2.241538559
                      },
                      {
                        "learn": [
                          0.4826061485
                        ],
                        "iteration": 240,
                        "passed_time": 0.7105554948,
                        "remaining_time": 2.237807554
                      },
                      {
                        "learn": [
                          0.4823995146
                        ],
                        "iteration": 241,
                        "passed_time": 0.7131952275,
                        "remaining_time": 2.233892489
                      },
                      {
                        "learn": [
                          0.4820588328
                        ],
                        "iteration": 242,
                        "passed_time": 0.7159850206,
                        "remaining_time": 2.230455393
                      },
                      {
                        "learn": [
                          0.4816043635
                        ],
                        "iteration": 243,
                        "passed_time": 0.7185507608,
                        "remaining_time": 2.226329407
                      },
                      {
                        "learn": [
                          0.4812873119
                        ],
                        "iteration": 244,
                        "passed_time": 0.7214215044,
                        "remaining_time": 2.223156065
                      },
                      {
                        "learn": [
                          0.4804085483
                        ],
                        "iteration": 245,
                        "passed_time": 0.7240354024,
                        "remaining_time": 2.219197941
                      },
                      {
                        "learn": [
                          0.4800617512
                        ],
                        "iteration": 246,
                        "passed_time": 0.7266624032,
                        "remaining_time": 2.215290646
                      },
                      {
                        "learn": [
                          0.4795212734
                        ],
                        "iteration": 247,
                        "passed_time": 0.7292896109,
                        "remaining_time": 2.211394304
                      },
                      {
                        "learn": [
                          0.4792393717
                        ],
                        "iteration": 248,
                        "passed_time": 0.7320559744,
                        "remaining_time": 2.207927859
                      },
                      {
                        "learn": [
                          0.4789050789
                        ],
                        "iteration": 249,
                        "passed_time": 0.7345640554,
                        "remaining_time": 2.203692166
                      },
                      {
                        "learn": [
                          0.4786951216
                        ],
                        "iteration": 250,
                        "passed_time": 0.7371074414,
                        "remaining_time": 2.199575592
                      },
                      {
                        "learn": [
                          0.4782057859
                        ],
                        "iteration": 251,
                        "passed_time": 0.7398170852,
                        "remaining_time": 2.195964999
                      },
                      {
                        "learn": [
                          0.4777349043
                        ],
                        "iteration": 252,
                        "passed_time": 0.742389954,
                        "remaining_time": 2.19195769
                      },
                      {
                        "learn": [
                          0.4771583449
                        ],
                        "iteration": 253,
                        "passed_time": 0.7450580139,
                        "remaining_time": 2.188241253
                      },
                      {
                        "learn": [
                          0.4768164147
                        ],
                        "iteration": 254,
                        "passed_time": 0.7476606608,
                        "remaining_time": 2.184341931
                      },
                      {
                        "learn": [
                          0.4763000021
                        ],
                        "iteration": 255,
                        "passed_time": 0.7505264819,
                        "remaining_time": 2.181217588
                      },
                      {
                        "learn": [
                          0.4759958288
                        ],
                        "iteration": 256,
                        "passed_time": 0.7533148342,
                        "remaining_time": 2.177871291
                      },
                      {
                        "learn": [
                          0.4757564454
                        ],
                        "iteration": 257,
                        "passed_time": 0.7559600215,
                        "remaining_time": 2.174117581
                      },
                      {
                        "learn": [
                          0.475459732
                        ],
                        "iteration": 258,
                        "passed_time": 0.7586264867,
                        "remaining_time": 2.170433307
                      },
                      {
                        "learn": [
                          0.475038913
                        ],
                        "iteration": 259,
                        "passed_time": 0.7616208682,
                        "remaining_time": 2.167690163
                      },
                      {
                        "learn": [
                          0.4746506902
                        ],
                        "iteration": 260,
                        "passed_time": 0.7642594961,
                        "remaining_time": 2.163937807
                      },
                      {
                        "learn": [
                          0.4744777108
                        ],
                        "iteration": 261,
                        "passed_time": 0.7669653704,
                        "remaining_time": 2.160383372
                      },
                      {
                        "learn": [
                          0.4742101577
                        ],
                        "iteration": 262,
                        "passed_time": 0.7697799104,
                        "remaining_time": 2.157139901
                      },
                      {
                        "learn": [
                          0.4739626438
                        ],
                        "iteration": 263,
                        "passed_time": 0.7725792189,
                        "remaining_time": 2.153857216
                      },
                      {
                        "learn": [
                          0.4733279741
                        ],
                        "iteration": 264,
                        "passed_time": 0.77553007,
                        "remaining_time": 2.150998496
                      },
                      {
                        "learn": [
                          0.4730218209
                        ],
                        "iteration": 265,
                        "passed_time": 0.7782251737,
                        "remaining_time": 2.147433374
                      },
                      {
                        "learn": [
                          0.4724293506
                        ],
                        "iteration": 266,
                        "passed_time": 0.7810246888,
                        "remaining_time": 2.144161412
                      },
                      {
                        "learn": [
                          0.4720047435
                        ],
                        "iteration": 267,
                        "passed_time": 0.7838021278,
                        "remaining_time": 2.140832677
                      },
                      {
                        "learn": [
                          0.471473454
                        ],
                        "iteration": 268,
                        "passed_time": 0.7866660263,
                        "remaining_time": 2.137742993
                      },
                      {
                        "learn": [
                          0.4712915845
                        ],
                        "iteration": 269,
                        "passed_time": 0.7893194756,
                        "remaining_time": 2.13408599
                      },
                      {
                        "learn": [
                          0.4708432021
                        ],
                        "iteration": 270,
                        "passed_time": 0.7920808228,
                        "remaining_time": 2.130726641
                      },
                      {
                        "learn": [
                          0.4705447815
                        ],
                        "iteration": 271,
                        "passed_time": 0.7948278715,
                        "remaining_time": 2.127333421
                      },
                      {
                        "learn": [
                          0.4702232843
                        ],
                        "iteration": 272,
                        "passed_time": 0.7973989978,
                        "remaining_time": 2.123476452
                      },
                      {
                        "learn": [
                          0.470059777
                        ],
                        "iteration": 273,
                        "passed_time": 0.8002902827,
                        "remaining_time": 2.120477172
                      },
                      {
                        "learn": [
                          0.4696808172
                        ],
                        "iteration": 274,
                        "passed_time": 0.8029093001,
                        "remaining_time": 2.116760882
                      },
                      {
                        "learn": [
                          0.4690614768
                        ],
                        "iteration": 275,
                        "passed_time": 0.8056688334,
                        "remaining_time": 2.113421143
                      },
                      {
                        "learn": [
                          0.4687416593
                        ],
                        "iteration": 276,
                        "passed_time": 0.8083948465,
                        "remaining_time": 2.109998101
                      },
                      {
                        "learn": [
                          0.4680931143
                        ],
                        "iteration": 277,
                        "passed_time": 0.8111857126,
                        "remaining_time": 2.106748505
                      },
                      {
                        "learn": [
                          0.4676182356
                        ],
                        "iteration": 278,
                        "passed_time": 0.8142056949,
                        "remaining_time": 2.104094287
                      },
                      {
                        "learn": [
                          0.4670273928
                        ],
                        "iteration": 279,
                        "passed_time": 0.8170306207,
                        "remaining_time": 2.100935882
                      },
                      {
                        "learn": [
                          0.4668175939
                        ],
                        "iteration": 280,
                        "passed_time": 0.8197235488,
                        "remaining_time": 2.097442105
                      },
                      {
                        "learn": [
                          0.4663157829
                        ],
                        "iteration": 281,
                        "passed_time": 0.822438999,
                        "remaining_time": 2.094011352
                      },
                      {
                        "learn": [
                          0.4661538231
                        ],
                        "iteration": 282,
                        "passed_time": 0.8251055946,
                        "remaining_time": 2.090461878
                      },
                      {
                        "learn": [
                          0.4659442276
                        ],
                        "iteration": 283,
                        "passed_time": 0.8278160972,
                        "remaining_time": 2.087029315
                      },
                      {
                        "learn": [
                          0.4656174217
                        ],
                        "iteration": 284,
                        "passed_time": 0.8304760199,
                        "remaining_time": 2.083474927
                      },
                      {
                        "learn": [
                          0.4653362566
                        ],
                        "iteration": 285,
                        "passed_time": 0.8330400988,
                        "remaining_time": 2.079687519
                      },
                      {
                        "learn": [
                          0.4646547532
                        ],
                        "iteration": 286,
                        "passed_time": 0.8356986837,
                        "remaining_time": 2.07614342
                      },
                      {
                        "learn": [
                          0.4642852491
                        ],
                        "iteration": 287,
                        "passed_time": 0.8386071322,
                        "remaining_time": 2.073223188
                      },
                      {
                        "learn": [
                          0.4635394819
                        ],
                        "iteration": 288,
                        "passed_time": 0.8412394842,
                        "remaining_time": 2.069623783
                      },
                      {
                        "learn": [
                          0.4633511503
                        ],
                        "iteration": 289,
                        "passed_time": 0.8438358642,
                        "remaining_time": 2.065942978
                      },
                      {
                        "learn": [
                          0.4627594242
                        ],
                        "iteration": 290,
                        "passed_time": 0.8464841063,
                        "remaining_time": 2.062395984
                      },
                      {
                        "learn": [
                          0.4622865254
                        ],
                        "iteration": 291,
                        "passed_time": 0.8493237175,
                        "remaining_time": 2.059319151
                      },
                      {
                        "learn": [
                          0.4620096915
                        ],
                        "iteration": 292,
                        "passed_time": 0.8518760045,
                        "remaining_time": 2.055550632
                      },
                      {
                        "learn": [
                          0.4615765553
                        ],
                        "iteration": 293,
                        "passed_time": 0.8546704106,
                        "remaining_time": 2.052371802
                      },
                      {
                        "learn": [
                          0.4612753516
                        ],
                        "iteration": 294,
                        "passed_time": 0.8600426718,
                        "remaining_time": 2.055356216
                      },
                      {
                        "learn": [
                          0.4609853207
                        ],
                        "iteration": 295,
                        "passed_time": 0.8644673046,
                        "remaining_time": 2.056030346
                      },
                      {
                        "learn": [
                          0.4605373107
                        ],
                        "iteration": 296,
                        "passed_time": 0.872494156,
                        "remaining_time": 2.065196605
                      },
                      {
                        "learn": [
                          0.4602662406
                        ],
                        "iteration": 297,
                        "passed_time": 0.8750010971,
                        "remaining_time": 2.061244195
                      },
                      {
                        "learn": [
                          0.4597514055
                        ],
                        "iteration": 298,
                        "passed_time": 0.8776751029,
                        "remaining_time": 2.057693134
                      },
                      {
                        "learn": [
                          0.4595032628
                        ],
                        "iteration": 299,
                        "passed_time": 0.8803201255,
                        "remaining_time": 2.054080293
                      },
                      {
                        "learn": [
                          0.4589356736
                        ],
                        "iteration": 300,
                        "passed_time": 0.8829497905,
                        "remaining_time": 2.050438218
                      },
                      {
                        "learn": [
                          0.4586918322
                        ],
                        "iteration": 301,
                        "passed_time": 0.8856361131,
                        "remaining_time": 2.046933798
                      },
                      {
                        "learn": [
                          0.4583102803
                        ],
                        "iteration": 302,
                        "passed_time": 0.888714006,
                        "remaining_time": 2.044335519
                      },
                      {
                        "learn": [
                          0.4577313757
                        ],
                        "iteration": 303,
                        "passed_time": 0.8913530152,
                        "remaining_time": 2.040729272
                      },
                      {
                        "learn": [
                          0.4572682931
                        ],
                        "iteration": 304,
                        "passed_time": 0.8939333138,
                        "remaining_time": 2.036995584
                      },
                      {
                        "learn": [
                          0.4568744149
                        ],
                        "iteration": 305,
                        "passed_time": 0.8969110544,
                        "remaining_time": 2.034170823
                      },
                      {
                        "learn": [
                          0.4564212593
                        ],
                        "iteration": 306,
                        "passed_time": 0.8995217185,
                        "remaining_time": 2.030516453
                      },
                      {
                        "learn": [
                          0.4559484143
                        ],
                        "iteration": 307,
                        "passed_time": 0.9022092841,
                        "remaining_time": 2.027041638
                      },
                      {
                        "learn": [
                          0.4554584158
                        ],
                        "iteration": 308,
                        "passed_time": 0.9050128404,
                        "remaining_time": 2.023831303
                      },
                      {
                        "learn": [
                          0.4552260608
                        ],
                        "iteration": 309,
                        "passed_time": 0.907741803,
                        "remaining_time": 2.020457561
                      },
                      {
                        "learn": [
                          0.4548901615
                        ],
                        "iteration": 310,
                        "passed_time": 0.9108898127,
                        "remaining_time": 2.018016337
                      },
                      {
                        "learn": [
                          0.4545133203
                        ],
                        "iteration": 311,
                        "passed_time": 0.9137305917,
                        "remaining_time": 2.0148931
                      },
                      {
                        "learn": [
                          0.454270032
                        ],
                        "iteration": 312,
                        "passed_time": 0.9165388674,
                        "remaining_time": 2.011700326
                      },
                      {
                        "learn": [
                          0.453877313
                        ],
                        "iteration": 313,
                        "passed_time": 0.9192894209,
                        "remaining_time": 2.008383894
                      },
                      {
                        "learn": [
                          0.4534268509
                        ],
                        "iteration": 314,
                        "passed_time": 0.9220813174,
                        "remaining_time": 2.00516096
                      },
                      {
                        "learn": [
                          0.453189031
                        ],
                        "iteration": 315,
                        "passed_time": 0.9248694596,
                        "remaining_time": 2.001932628
                      },
                      {
                        "learn": [
                          0.4529500357
                        ],
                        "iteration": 316,
                        "passed_time": 0.9276311076,
                        "remaining_time": 1.998649989
                      },
                      {
                        "learn": [
                          0.4525927697
                        ],
                        "iteration": 317,
                        "passed_time": 0.9302432048,
                        "remaining_time": 1.995049892
                      },
                      {
                        "learn": [
                          0.452424926
                        ],
                        "iteration": 318,
                        "passed_time": 0.9328331554,
                        "remaining_time": 1.991408711
                      },
                      {
                        "learn": [
                          0.4521396051
                        ],
                        "iteration": 319,
                        "passed_time": 0.9355002492,
                        "remaining_time": 1.98793803
                      },
                      {
                        "learn": [
                          0.4519442727
                        ],
                        "iteration": 320,
                        "passed_time": 0.9381872235,
                        "remaining_time": 1.984514407
                      },
                      {
                        "learn": [
                          0.4516861573
                        ],
                        "iteration": 321,
                        "passed_time": 0.9407382776,
                        "remaining_time": 1.980809168
                      },
                      {
                        "learn": [
                          0.4513622878
                        ],
                        "iteration": 322,
                        "passed_time": 0.9434252584,
                        "remaining_time": 1.977395975
                      },
                      {
                        "learn": [
                          0.4511190859
                        ],
                        "iteration": 323,
                        "passed_time": 0.9469219484,
                        "remaining_time": 1.975676658
                      },
                      {
                        "learn": [
                          0.450852069
                        ],
                        "iteration": 324,
                        "passed_time": 0.9495555968,
                        "remaining_time": 1.972153932
                      },
                      {
                        "learn": [
                          0.4506310326
                        ],
                        "iteration": 325,
                        "passed_time": 0.9524546133,
                        "remaining_time": 1.969185305
                      },
                      {
                        "learn": [
                          0.4501712505
                        ],
                        "iteration": 326,
                        "passed_time": 0.9551946252,
                        "remaining_time": 1.965889856
                      },
                      {
                        "learn": [
                          0.4498812664
                        ],
                        "iteration": 327,
                        "passed_time": 0.9579293712,
                        "remaining_time": 1.962587004
                      },
                      {
                        "learn": [
                          0.4493323794
                        ],
                        "iteration": 328,
                        "passed_time": 0.9606303435,
                        "remaining_time": 1.959218725
                      },
                      {
                        "learn": [
                          0.4490988921
                        ],
                        "iteration": 329,
                        "passed_time": 0.9631784567,
                        "remaining_time": 1.955544139
                      },
                      {
                        "learn": [
                          0.4486027159
                        ],
                        "iteration": 330,
                        "passed_time": 0.9660835744,
                        "remaining_time": 1.952597919
                      },
                      {
                        "learn": [
                          0.4484587853
                        ],
                        "iteration": 331,
                        "passed_time": 0.9803633796,
                        "remaining_time": 1.972538366
                      },
                      {
                        "learn": [
                          0.4479935293
                        ],
                        "iteration": 332,
                        "passed_time": 0.9890983322,
                        "remaining_time": 1.98116693
                      },
                      {
                        "learn": [
                          0.4475300438
                        ],
                        "iteration": 333,
                        "passed_time": 0.9920244386,
                        "remaining_time": 1.978108611
                      },
                      {
                        "learn": [
                          0.4471394247
                        ],
                        "iteration": 334,
                        "passed_time": 0.9948794808,
                        "remaining_time": 1.974910014
                      },
                      {
                        "learn": [
                          0.4469382203
                        ],
                        "iteration": 335,
                        "passed_time": 0.9974969135,
                        "remaining_time": 1.9712439
                      },
                      {
                        "learn": [
                          0.4464961402
                        ],
                        "iteration": 336,
                        "passed_time": 1.000170543,
                        "remaining_time": 1.967694569
                      },
                      {
                        "learn": [
                          0.4460017987
                        ],
                        "iteration": 337,
                        "passed_time": 1.002813132,
                        "remaining_time": 1.964089624
                      },
                      {
                        "learn": [
                          0.4455973942
                        ],
                        "iteration": 338,
                        "passed_time": 1.005738751,
                        "remaining_time": 1.961042225
                      },
                      {
                        "learn": [
                          0.4452144211
                        ],
                        "iteration": 339,
                        "passed_time": 1.008442431,
                        "remaining_time": 1.957564718
                      },
                      {
                        "learn": [
                          0.4448876419
                        ],
                        "iteration": 340,
                        "passed_time": 1.011160653,
                        "remaining_time": 1.954119855
                      },
                      {
                        "learn": [
                          0.4445651678
                        ],
                        "iteration": 341,
                        "passed_time": 1.013995913,
                        "remaining_time": 1.950904417
                      },
                      {
                        "learn": [
                          0.4442878545
                        ],
                        "iteration": 342,
                        "passed_time": 1.016908804,
                        "remaining_time": 1.947839896
                      },
                      {
                        "learn": [
                          0.4439384961
                        ],
                        "iteration": 343,
                        "passed_time": 1.019606625,
                        "remaining_time": 1.944366123
                      },
                      {
                        "learn": [
                          0.443720267
                        ],
                        "iteration": 344,
                        "passed_time": 1.022195355,
                        "remaining_time": 1.940689732
                      },
                      {
                        "learn": [
                          0.4434918799
                        ],
                        "iteration": 345,
                        "passed_time": 1.025082087,
                        "remaining_time": 1.937582904
                      },
                      {
                        "learn": [
                          0.4430869073
                        ],
                        "iteration": 346,
                        "passed_time": 1.027780085,
                        "remaining_time": 1.934122178
                      },
                      {
                        "learn": [
                          0.442615004
                        ],
                        "iteration": 347,
                        "passed_time": 1.030401076,
                        "remaining_time": 1.930521557
                      },
                      {
                        "learn": [
                          0.4422795884
                        ],
                        "iteration": 348,
                        "passed_time": 1.033197899,
                        "remaining_time": 1.927254533
                      },
                      {
                        "learn": [
                          0.4420747365
                        ],
                        "iteration": 349,
                        "passed_time": 1.035915564,
                        "remaining_time": 1.923843189
                      },
                      {
                        "learn": [
                          0.4418393329
                        ],
                        "iteration": 350,
                        "passed_time": 1.038485679,
                        "remaining_time": 1.92016298
                      },
                      {
                        "learn": [
                          0.441563477
                        ],
                        "iteration": 351,
                        "passed_time": 1.041056046,
                        "remaining_time": 1.91648954
                      },
                      {
                        "learn": [
                          0.4412348804
                        ],
                        "iteration": 352,
                        "passed_time": 1.043949842,
                        "remaining_time": 1.91341515
                      },
                      {
                        "learn": [
                          0.4407992464
                        ],
                        "iteration": 353,
                        "passed_time": 1.046609407,
                        "remaining_time": 1.909914341
                      },
                      {
                        "learn": [
                          0.4406257681
                        ],
                        "iteration": 354,
                        "passed_time": 1.049247814,
                        "remaining_time": 1.90637983
                      },
                      {
                        "learn": [
                          0.4404814422
                        ],
                        "iteration": 355,
                        "passed_time": 1.051968027,
                        "remaining_time": 1.902998342
                      },
                      {
                        "learn": [
                          0.4401465124
                        ],
                        "iteration": 356,
                        "passed_time": 1.054775145,
                        "remaining_time": 1.899777082
                      },
                      {
                        "learn": [
                          0.4398630094
                        ],
                        "iteration": 357,
                        "passed_time": 1.058285165,
                        "remaining_time": 1.897818648
                      },
                      {
                        "learn": [
                          0.4395952033
                        ],
                        "iteration": 358,
                        "passed_time": 1.062101864,
                        "remaining_time": 1.896399151
                      },
                      {
                        "learn": [
                          0.4391387803
                        ],
                        "iteration": 359,
                        "passed_time": 1.06501183,
                        "remaining_time": 1.893354365
                      },
                      {
                        "learn": [
                          0.4389604684
                        ],
                        "iteration": 360,
                        "passed_time": 1.06765257,
                        "remaining_time": 1.889833774
                      },
                      {
                        "learn": [
                          0.4387688717
                        ],
                        "iteration": 361,
                        "passed_time": 1.070271726,
                        "remaining_time": 1.886280003
                      },
                      {
                        "learn": [
                          0.4384016848
                        ],
                        "iteration": 362,
                        "passed_time": 1.072927124,
                        "remaining_time": 1.88279498
                      },
                      {
                        "learn": [
                          0.4381982632
                        ],
                        "iteration": 363,
                        "passed_time": 1.075583296,
                        "remaining_time": 1.879315869
                      },
                      {
                        "learn": [
                          0.4379057186
                        ],
                        "iteration": 364,
                        "passed_time": 1.078248677,
                        "remaining_time": 1.875857288
                      },
                      {
                        "learn": [
                          0.4374579199
                        ],
                        "iteration": 365,
                        "passed_time": 1.081265316,
                        "remaining_time": 1.873011504
                      },
                      {
                        "learn": [
                          0.4372760891
                        ],
                        "iteration": 366,
                        "passed_time": 1.083933206,
                        "remaining_time": 1.869563268
                      },
                      {
                        "learn": [
                          0.4370728932
                        ],
                        "iteration": 367,
                        "passed_time": 1.086734437,
                        "remaining_time": 1.866348272
                      },
                      {
                        "learn": [
                          0.4366597484
                        ],
                        "iteration": 368,
                        "passed_time": 1.08936149,
                        "remaining_time": 1.86283767
                      },
                      {
                        "learn": [
                          0.4361958946
                        ],
                        "iteration": 369,
                        "passed_time": 1.092043447,
                        "remaining_time": 1.859425329
                      },
                      {
                        "learn": [
                          0.4358562621
                        ],
                        "iteration": 370,
                        "passed_time": 1.094657195,
                        "remaining_time": 1.855901282
                      },
                      {
                        "learn": [
                          0.4356546854
                        ],
                        "iteration": 371,
                        "passed_time": 1.09725486,
                        "remaining_time": 1.852354978
                      },
                      {
                        "learn": [
                          0.4354566596
                        ],
                        "iteration": 372,
                        "passed_time": 1.099841019,
                        "remaining_time": 1.84879442
                      },
                      {
                        "learn": [
                          0.435174051
                        ],
                        "iteration": 373,
                        "passed_time": 1.102623329,
                        "remaining_time": 1.84556739
                      },
                      {
                        "learn": [
                          0.434981806
                        ],
                        "iteration": 374,
                        "passed_time": 1.105205357,
                        "remaining_time": 1.842008929
                      },
                      {
                        "learn": [
                          0.4347589819
                        ],
                        "iteration": 375,
                        "passed_time": 1.107812919,
                        "remaining_time": 1.838498036
                      },
                      {
                        "learn": [
                          0.4345465838
                        ],
                        "iteration": 376,
                        "passed_time": 1.110386918,
                        "remaining_time": 1.834936471
                      },
                      {
                        "learn": [
                          0.4341951635
                        ],
                        "iteration": 377,
                        "passed_time": 1.113179658,
                        "remaining_time": 1.831740072
                      },
                      {
                        "learn": [
                          0.433988558
                        ],
                        "iteration": 378,
                        "passed_time": 1.115789186,
                        "remaining_time": 1.828245606
                      },
                      {
                        "learn": [
                          0.4337550969
                        ],
                        "iteration": 379,
                        "passed_time": 1.118410264,
                        "remaining_time": 1.824774641
                      },
                      {
                        "learn": [
                          0.4335871106
                        ],
                        "iteration": 380,
                        "passed_time": 1.121034215,
                        "remaining_time": 1.821312805
                      },
                      {
                        "learn": [
                          0.4334036772
                        ],
                        "iteration": 381,
                        "passed_time": 1.123825875,
                        "remaining_time": 1.818126678
                      },
                      {
                        "learn": [
                          0.4331119098
                        ],
                        "iteration": 382,
                        "passed_time": 1.126394654,
                        "remaining_time": 1.814583556
                      },
                      {
                        "learn": [
                          0.4328529624
                        ],
                        "iteration": 383,
                        "passed_time": 1.129164923,
                        "remaining_time": 1.811368731
                      },
                      {
                        "learn": [
                          0.4324789808
                        ],
                        "iteration": 384,
                        "passed_time": 1.131949962,
                        "remaining_time": 1.80817981
                      },
                      {
                        "learn": [
                          0.4320933151
                        ],
                        "iteration": 385,
                        "passed_time": 1.134644749,
                        "remaining_time": 1.80484942
                      },
                      {
                        "learn": [
                          0.4319319265
                        ],
                        "iteration": 386,
                        "passed_time": 1.137216704,
                        "remaining_time": 1.80132775
                      },
                      {
                        "learn": [
                          0.4316635501
                        ],
                        "iteration": 387,
                        "passed_time": 1.139863859,
                        "remaining_time": 1.797929592
                      },
                      {
                        "learn": [
                          0.4314447498
                        ],
                        "iteration": 388,
                        "passed_time": 1.142612481,
                        "remaining_time": 1.794694669
                      },
                      {
                        "learn": [
                          0.431210129
                        ],
                        "iteration": 389,
                        "passed_time": 1.145229212,
                        "remaining_time": 1.791255947
                      },
                      {
                        "learn": [
                          0.4309820732
                        ],
                        "iteration": 390,
                        "passed_time": 1.147848835,
                        "remaining_time": 1.787825934
                      },
                      {
                        "learn": [
                          0.430575367
                        ],
                        "iteration": 391,
                        "passed_time": 1.150510603,
                        "remaining_time": 1.784465425
                      },
                      {
                        "learn": [
                          0.4301716275
                        ],
                        "iteration": 392,
                        "passed_time": 1.153455358,
                        "remaining_time": 1.781545553
                      },
                      {
                        "learn": [
                          0.4300030616
                        ],
                        "iteration": 393,
                        "passed_time": 1.156044207,
                        "remaining_time": 1.778078146
                      },
                      {
                        "learn": [
                          0.4298127375
                        ],
                        "iteration": 394,
                        "passed_time": 1.158735443,
                        "remaining_time": 1.774772007
                      },
                      {
                        "learn": [
                          0.4296383715
                        ],
                        "iteration": 395,
                        "passed_time": 1.161491537,
                        "remaining_time": 1.771567899
                      },
                      {
                        "learn": [
                          0.4291019783
                        ],
                        "iteration": 396,
                        "passed_time": 1.164116758,
                        "remaining_time": 1.768167268
                      },
                      {
                        "learn": [
                          0.4288971387
                        ],
                        "iteration": 397,
                        "passed_time": 1.166804734,
                        "remaining_time": 1.764865452
                      },
                      {
                        "learn": [
                          0.4286043359
                        ],
                        "iteration": 398,
                        "passed_time": 1.169508536,
                        "remaining_time": 1.761590551
                      },
                      {
                        "learn": [
                          0.4283115807
                        ],
                        "iteration": 399,
                        "passed_time": 1.172331465,
                        "remaining_time": 1.758497197
                      },
                      {
                        "learn": [
                          0.4281615151
                        ],
                        "iteration": 400,
                        "passed_time": 1.174861296,
                        "remaining_time": 1.754967372
                      },
                      {
                        "learn": [
                          0.4279129373
                        ],
                        "iteration": 401,
                        "passed_time": 1.1775577,
                        "remaining_time": 1.75169031
                      },
                      {
                        "learn": [
                          0.4275789944
                        ],
                        "iteration": 402,
                        "passed_time": 1.180336257,
                        "remaining_time": 1.74853783
                      },
                      {
                        "learn": [
                          0.4274151008
                        ],
                        "iteration": 403,
                        "passed_time": 1.183131364,
                        "remaining_time": 1.745411617
                      },
                      {
                        "learn": [
                          0.4270934526
                        ],
                        "iteration": 404,
                        "passed_time": 1.185871273,
                        "remaining_time": 1.742205944
                      },
                      {
                        "learn": [
                          0.426776447
                        ],
                        "iteration": 405,
                        "passed_time": 1.188435316,
                        "remaining_time": 1.738745265
                      },
                      {
                        "learn": [
                          0.4266310704
                        ],
                        "iteration": 406,
                        "passed_time": 1.191045884,
                        "remaining_time": 1.735356779
                      },
                      {
                        "learn": [
                          0.426398032
                        ],
                        "iteration": 407,
                        "passed_time": 1.193700402,
                        "remaining_time": 1.732035878
                      },
                      {
                        "learn": [
                          0.4260454993
                        ],
                        "iteration": 408,
                        "passed_time": 1.196261779,
                        "remaining_time": 1.728583647
                      },
                      {
                        "learn": [
                          0.4258239731
                        ],
                        "iteration": 409,
                        "passed_time": 1.199105131,
                        "remaining_time": 1.725541531
                      },
                      {
                        "learn": [
                          0.4254450174
                        ],
                        "iteration": 410,
                        "passed_time": 1.201815457,
                        "remaining_time": 1.722309743
                      },
                      {
                        "learn": [
                          0.4252230672
                        ],
                        "iteration": 411,
                        "passed_time": 1.204359444,
                        "remaining_time": 1.71884309
                      },
                      {
                        "learn": [
                          0.4249005663
                        ],
                        "iteration": 412,
                        "passed_time": 1.207109407,
                        "remaining_time": 1.71567366
                      },
                      {
                        "learn": [
                          0.4245115184
                        ],
                        "iteration": 413,
                        "passed_time": 1.209896432,
                        "remaining_time": 1.712558717
                      },
                      {
                        "learn": [
                          0.4243327056
                        ],
                        "iteration": 414,
                        "passed_time": 1.212526841,
                        "remaining_time": 1.709224583
                      },
                      {
                        "learn": [
                          0.4240927879
                        ],
                        "iteration": 415,
                        "passed_time": 1.21519133,
                        "remaining_time": 1.705941675
                      },
                      {
                        "learn": [
                          0.4239448185
                        ],
                        "iteration": 416,
                        "passed_time": 1.217826066,
                        "remaining_time": 1.702620135
                      },
                      {
                        "learn": [
                          0.4235620308
                        ],
                        "iteration": 417,
                        "passed_time": 1.220530769,
                        "remaining_time": 1.6993993
                      },
                      {
                        "learn": [
                          0.423340421
                        ],
                        "iteration": 418,
                        "passed_time": 1.223197425,
                        "remaining_time": 1.696128171
                      },
                      {
                        "learn": [
                          0.4230391144
                        ],
                        "iteration": 419,
                        "passed_time": 1.225864436,
                        "remaining_time": 1.692860412
                      },
                      {
                        "learn": [
                          0.4228112835
                        ],
                        "iteration": 420,
                        "passed_time": 1.228636571,
                        "remaining_time": 1.689740082
                      },
                      {
                        "learn": [
                          0.4224620608
                        ],
                        "iteration": 421,
                        "passed_time": 1.231398576,
                        "remaining_time": 1.686607528
                      },
                      {
                        "learn": [
                          0.422099753
                        ],
                        "iteration": 422,
                        "passed_time": 1.234083856,
                        "remaining_time": 1.683372068
                      },
                      {
                        "learn": [
                          0.42188135
                        ],
                        "iteration": 423,
                        "passed_time": 1.236833977,
                        "remaining_time": 1.68022729
                      },
                      {
                        "learn": [
                          0.4215490384
                        ],
                        "iteration": 424,
                        "passed_time": 1.239853094,
                        "remaining_time": 1.677448304
                      },
                      {
                        "learn": [
                          0.4214127694
                        ],
                        "iteration": 425,
                        "passed_time": 1.242485621,
                        "remaining_time": 1.674147292
                      },
                      {
                        "learn": [
                          0.4211379245
                        ],
                        "iteration": 426,
                        "passed_time": 1.245116889,
                        "remaining_time": 1.670847722
                      },
                      {
                        "learn": [
                          0.4209146951
                        ],
                        "iteration": 427,
                        "passed_time": 1.247899926,
                        "remaining_time": 1.667754107
                      },
                      {
                        "learn": [
                          0.4206348901
                        ],
                        "iteration": 428,
                        "passed_time": 1.25258981,
                        "remaining_time": 1.667199957
                      },
                      {
                        "learn": [
                          0.4202737757
                        ],
                        "iteration": 429,
                        "passed_time": 1.255341495,
                        "remaining_time": 1.66405733
                      },
                      {
                        "learn": [
                          0.4201227876
                        ],
                        "iteration": 430,
                        "passed_time": 1.25799903,
                        "remaining_time": 1.660792223
                      },
                      {
                        "learn": [
                          0.4197815342
                        ],
                        "iteration": 431,
                        "passed_time": 1.260814793,
                        "remaining_time": 1.657737968
                      },
                      {
                        "learn": [
                          0.4195238711
                        ],
                        "iteration": 432,
                        "passed_time": 1.263487974,
                        "remaining_time": 1.654498109
                      },
                      {
                        "learn": [
                          0.4192715232
                        ],
                        "iteration": 433,
                        "passed_time": 1.266257245,
                        "remaining_time": 1.651386177
                      },
                      {
                        "learn": [
                          0.4189560352
                        ],
                        "iteration": 434,
                        "passed_time": 1.268935611,
                        "remaining_time": 1.648157747
                      },
                      {
                        "learn": [
                          0.418626695
                        ],
                        "iteration": 435,
                        "passed_time": 1.271701462,
                        "remaining_time": 1.645045011
                      },
                      {
                        "learn": [
                          0.4185220944
                        ],
                        "iteration": 436,
                        "passed_time": 1.274305921,
                        "remaining_time": 1.641725934
                      },
                      {
                        "learn": [
                          0.418227442
                        ],
                        "iteration": 437,
                        "passed_time": 1.276989854,
                        "remaining_time": 1.638512096
                      },
                      {
                        "learn": [
                          0.4179787111
                        ],
                        "iteration": 438,
                        "passed_time": 1.279766622,
                        "remaining_time": 1.635419305
                      },
                      {
                        "learn": [
                          0.4177445402
                        ],
                        "iteration": 439,
                        "passed_time": 1.282470568,
                        "remaining_time": 1.632235269
                      },
                      {
                        "learn": [
                          0.4174812978
                        ],
                        "iteration": 440,
                        "passed_time": 1.285335449,
                        "remaining_time": 1.629257405
                      },
                      {
                        "learn": [
                          0.4173067106
                        ],
                        "iteration": 441,
                        "passed_time": 1.288123182,
                        "remaining_time": 1.626182659
                      },
                      {
                        "learn": [
                          0.4170028374
                        ],
                        "iteration": 442,
                        "passed_time": 1.29102595,
                        "remaining_time": 1.623253847
                      },
                      {
                        "learn": [
                          0.4168250304
                        ],
                        "iteration": 443,
                        "passed_time": 1.293678602,
                        "remaining_time": 1.620011943
                      },
                      {
                        "learn": [
                          0.4166278134
                        ],
                        "iteration": 444,
                        "passed_time": 1.29635871,
                        "remaining_time": 1.61680693
                      },
                      {
                        "learn": [
                          0.4162894111
                        ],
                        "iteration": 445,
                        "passed_time": 1.299125332,
                        "remaining_time": 1.613711735
                      },
                      {
                        "learn": [
                          0.416014911
                        ],
                        "iteration": 446,
                        "passed_time": 1.301821029,
                        "remaining_time": 1.610530266
                      },
                      {
                        "learn": [
                          0.4157023188
                        ],
                        "iteration": 447,
                        "passed_time": 1.304472892,
                        "remaining_time": 1.607296957
                      },
                      {
                        "learn": [
                          0.4155410303
                        ],
                        "iteration": 448,
                        "passed_time": 1.307021199,
                        "remaining_time": 1.603939155
                      },
                      {
                        "learn": [
                          0.4154293212
                        ],
                        "iteration": 449,
                        "passed_time": 1.3097747,
                        "remaining_time": 1.600835744
                      },
                      {
                        "learn": [
                          0.4151510547
                        ],
                        "iteration": 450,
                        "passed_time": 1.312482642,
                        "remaining_time": 1.597678427
                      },
                      {
                        "learn": [
                          0.414758302
                        ],
                        "iteration": 451,
                        "passed_time": 1.315154641,
                        "remaining_time": 1.594479521
                      },
                      {
                        "learn": [
                          0.4143719429
                        ],
                        "iteration": 452,
                        "passed_time": 1.317961512,
                        "remaining_time": 1.5914458
                      },
                      {
                        "learn": [
                          0.4142711751
                        ],
                        "iteration": 453,
                        "passed_time": 1.320594678,
                        "remaining_time": 1.588204172
                      },
                      {
                        "learn": [
                          0.4140341964
                        ],
                        "iteration": 454,
                        "passed_time": 1.32330267,
                        "remaining_time": 1.585054846
                      },
                      {
                        "learn": [
                          0.4138344353
                        ],
                        "iteration": 455,
                        "passed_time": 1.325955692,
                        "remaining_time": 1.581841879
                      },
                      {
                        "learn": [
                          0.4134715647
                        ],
                        "iteration": 456,
                        "passed_time": 1.328612104,
                        "remaining_time": 1.578635389
                      },
                      {
                        "learn": [
                          0.4133144347
                        ],
                        "iteration": 457,
                        "passed_time": 1.331256067,
                        "remaining_time": 1.575416568
                      },
                      {
                        "learn": [
                          0.4129514741
                        ],
                        "iteration": 458,
                        "passed_time": 1.333976214,
                        "remaining_time": 1.572290047
                      },
                      {
                        "learn": [
                          0.4128121552
                        ],
                        "iteration": 459,
                        "passed_time": 1.33672204,
                        "remaining_time": 1.569195438
                      },
                      {
                        "learn": [
                          0.4124925093
                        ],
                        "iteration": 460,
                        "passed_time": 1.339615404,
                        "remaining_time": 1.566274843
                      },
                      {
                        "learn": [
                          0.4123032601
                        ],
                        "iteration": 461,
                        "passed_time": 1.342422794,
                        "remaining_time": 1.56325425
                      },
                      {
                        "learn": [
                          0.4120745708
                        ],
                        "iteration": 462,
                        "passed_time": 1.345107902,
                        "remaining_time": 1.56009275
                      },
                      {
                        "learn": [
                          0.4119405209
                        ],
                        "iteration": 463,
                        "passed_time": 1.346918807,
                        "remaining_time": 1.555923449
                      },
                      {
                        "learn": [
                          0.4117637806
                        ],
                        "iteration": 464,
                        "passed_time": 1.349795976,
                        "remaining_time": 1.552991069
                      },
                      {
                        "learn": [
                          0.4116416809
                        ],
                        "iteration": 465,
                        "passed_time": 1.351551431,
                        "remaining_time": 1.548773528
                      },
                      {
                        "learn": [
                          0.411423749
                        ],
                        "iteration": 466,
                        "passed_time": 1.354473313,
                        "remaining_time": 1.545897807
                      },
                      {
                        "learn": [
                          0.4111461407
                        ],
                        "iteration": 467,
                        "passed_time": 1.357379861,
                        "remaining_time": 1.543004458
                      },
                      {
                        "learn": [
                          0.4109342213
                        ],
                        "iteration": 468,
                        "passed_time": 1.360002223,
                        "remaining_time": 1.539789297
                      },
                      {
                        "learn": [
                          0.4106715977
                        ],
                        "iteration": 469,
                        "passed_time": 1.36264202,
                        "remaining_time": 1.53659632
                      },
                      {
                        "learn": [
                          0.4103656911
                        ],
                        "iteration": 470,
                        "passed_time": 1.365451363,
                        "remaining_time": 1.533596116
                      },
                      {
                        "learn": [
                          0.4101422708
                        ],
                        "iteration": 471,
                        "passed_time": 1.36813024,
                        "remaining_time": 1.530450777
                      },
                      {
                        "learn": [
                          0.4098856151
                        ],
                        "iteration": 472,
                        "passed_time": 1.370676602,
                        "remaining_time": 1.527159766
                      },
                      {
                        "learn": [
                          0.4097548796
                        ],
                        "iteration": 473,
                        "passed_time": 1.373264144,
                        "remaining_time": 1.523917594
                      },
                      {
                        "learn": [
                          0.4094592353
                        ],
                        "iteration": 474,
                        "passed_time": 1.375964508,
                        "remaining_time": 1.520802877
                      },
                      {
                        "learn": [
                          0.4091450582
                        ],
                        "iteration": 475,
                        "passed_time": 1.378661431,
                        "remaining_time": 1.517686114
                      },
                      {
                        "learn": [
                          0.4087534911
                        ],
                        "iteration": 476,
                        "passed_time": 1.381287793,
                        "remaining_time": 1.514493744
                      },
                      {
                        "learn": [
                          0.4085663103
                        ],
                        "iteration": 477,
                        "passed_time": 1.383891723,
                        "remaining_time": 1.511279246
                      },
                      {
                        "learn": [
                          0.4082934926
                        ],
                        "iteration": 478,
                        "passed_time": 1.386762707,
                        "remaining_time": 1.508357767
                      },
                      {
                        "learn": [
                          0.4081684883
                        ],
                        "iteration": 479,
                        "passed_time": 1.389328656,
                        "remaining_time": 1.505106043
                      },
                      {
                        "learn": [
                          0.4078649647
                        ],
                        "iteration": 480,
                        "passed_time": 1.392142162,
                        "remaining_time": 1.502124287
                      },
                      {
                        "learn": [
                          0.4075919901
                        ],
                        "iteration": 481,
                        "passed_time": 1.395075281,
                        "remaining_time": 1.499271775
                      },
                      {
                        "learn": [
                          0.4074571797
                        ],
                        "iteration": 482,
                        "passed_time": 1.397815733,
                        "remaining_time": 1.4962127
                      },
                      {
                        "learn": [
                          0.4072411763
                        ],
                        "iteration": 483,
                        "passed_time": 1.400500089,
                        "remaining_time": 1.493095137
                      },
                      {
                        "learn": [
                          0.4070177508
                        ],
                        "iteration": 484,
                        "passed_time": 1.403301934,
                        "remaining_time": 1.490104115
                      },
                      {
                        "learn": [
                          0.4068154576
                        ],
                        "iteration": 485,
                        "passed_time": 1.40611317,
                        "remaining_time": 1.487123806
                      },
                      {
                        "learn": [
                          0.4066577905
                        ],
                        "iteration": 486,
                        "passed_time": 1.408748711,
                        "remaining_time": 1.483959114
                      },
                      {
                        "learn": [
                          0.4065085803
                        ],
                        "iteration": 487,
                        "passed_time": 1.411411261,
                        "remaining_time": 1.48082493
                      },
                      {
                        "learn": [
                          0.4061241858
                        ],
                        "iteration": 488,
                        "passed_time": 1.41411275,
                        "remaining_time": 1.477733364
                      },
                      {
                        "learn": [
                          0.4059869633
                        ],
                        "iteration": 489,
                        "passed_time": 1.416990703,
                        "remaining_time": 1.474827059
                      },
                      {
                        "learn": [
                          0.4056521178
                        ],
                        "iteration": 490,
                        "passed_time": 1.419800862,
                        "remaining_time": 1.471850588
                      },
                      {
                        "learn": [
                          0.4054924879
                        ],
                        "iteration": 491,
                        "passed_time": 1.422468359,
                        "remaining_time": 1.468727493
                      },
                      {
                        "learn": [
                          0.405226998
                        ],
                        "iteration": 492,
                        "passed_time": 1.425374126,
                        "remaining_time": 1.465851282
                      },
                      {
                        "learn": [
                          0.4050111746
                        ],
                        "iteration": 493,
                        "passed_time": 1.42812868,
                        "remaining_time": 1.462820065
                      },
                      {
                        "learn": [
                          0.4048280434
                        ],
                        "iteration": 494,
                        "passed_time": 1.430675913,
                        "remaining_time": 1.459578457
                      },
                      {
                        "learn": [
                          0.4045056796
                        ],
                        "iteration": 495,
                        "passed_time": 1.434044068,
                        "remaining_time": 1.457173811
                      },
                      {
                        "learn": [
                          0.4042299954
                        ],
                        "iteration": 496,
                        "passed_time": 1.436870114,
                        "remaining_time": 1.454216634
                      },
                      {
                        "learn": [
                          0.4040537291
                        ],
                        "iteration": 497,
                        "passed_time": 1.439489416,
                        "remaining_time": 1.45105158
                      },
                      {
                        "learn": [
                          0.4039042191
                        ],
                        "iteration": 498,
                        "passed_time": 1.442009396,
                        "remaining_time": 1.447788993
                      },
                      {
                        "learn": [
                          0.4035639835
                        ],
                        "iteration": 499,
                        "passed_time": 1.444781061,
                        "remaining_time": 1.444781061
                      },
                      {
                        "learn": [
                          0.4033267156
                        ],
                        "iteration": 500,
                        "passed_time": 1.44755214,
                        "remaining_time": 1.441773488
                      },
                      {
                        "learn": [
                          0.4031858243
                        ],
                        "iteration": 501,
                        "passed_time": 1.450122677,
                        "remaining_time": 1.438567915
                      },
                      {
                        "learn": [
                          0.4029865705
                        ],
                        "iteration": 502,
                        "passed_time": 1.454848928,
                        "remaining_time": 1.437494866
                      },
                      {
                        "learn": [
                          0.4028419754
                        ],
                        "iteration": 503,
                        "passed_time": 1.457619922,
                        "remaining_time": 1.434483098
                      },
                      {
                        "learn": [
                          0.4025465595
                        ],
                        "iteration": 504,
                        "passed_time": 1.460194938,
                        "remaining_time": 1.431280187
                      },
                      {
                        "learn": [
                          0.4023770898
                        ],
                        "iteration": 505,
                        "passed_time": 1.462791451,
                        "remaining_time": 1.428100745
                      },
                      {
                        "learn": [
                          0.4021702855
                        ],
                        "iteration": 506,
                        "passed_time": 1.465554475,
                        "remaining_time": 1.425085516
                      },
                      {
                        "learn": [
                          0.4019310432
                        ],
                        "iteration": 507,
                        "passed_time": 1.46817855,
                        "remaining_time": 1.421936706
                      },
                      {
                        "learn": [
                          0.4017328175
                        ],
                        "iteration": 508,
                        "passed_time": 1.470806619,
                        "remaining_time": 1.418793811
                      },
                      {
                        "learn": [
                          0.4016132679
                        ],
                        "iteration": 509,
                        "passed_time": 1.473567051,
                        "remaining_time": 1.415780108
                      },
                      {
                        "learn": [
                          0.4013433106
                        ],
                        "iteration": 510,
                        "passed_time": 1.476408816,
                        "remaining_time": 1.412845227
                      },
                      {
                        "learn": [
                          0.401198144
                        ],
                        "iteration": 511,
                        "passed_time": 1.479075917,
                        "remaining_time": 1.409744233
                      },
                      {
                        "learn": [
                          0.4011074817
                        ],
                        "iteration": 512,
                        "passed_time": 1.481740364,
                        "remaining_time": 1.406642411
                      },
                      {
                        "learn": [
                          0.4009948278
                        ],
                        "iteration": 513,
                        "passed_time": 1.484488783,
                        "remaining_time": 1.40362169
                      },
                      {
                        "learn": [
                          0.4006251177
                        ],
                        "iteration": 514,
                        "passed_time": 1.487247692,
                        "remaining_time": 1.400611905
                      },
                      {
                        "learn": [
                          0.4004426071
                        ],
                        "iteration": 515,
                        "passed_time": 1.490031093,
                        "remaining_time": 1.397626064
                      },
                      {
                        "learn": [
                          0.4001436991
                        ],
                        "iteration": 516,
                        "passed_time": 1.492826148,
                        "remaining_time": 1.394651895
                      },
                      {
                        "learn": [
                          0.3999932487
                        ],
                        "iteration": 517,
                        "passed_time": 1.495784556,
                        "remaining_time": 1.391830417
                      },
                      {
                        "learn": [
                          0.3998805639
                        ],
                        "iteration": 518,
                        "passed_time": 1.498439695,
                        "remaining_time": 1.388727347
                      },
                      {
                        "learn": [
                          0.399604232
                        ],
                        "iteration": 519,
                        "passed_time": 1.501106021,
                        "remaining_time": 1.385636327
                      },
                      {
                        "learn": [
                          0.3994353055
                        ],
                        "iteration": 520,
                        "passed_time": 1.503982049,
                        "remaining_time": 1.382739734
                      },
                      {
                        "learn": [
                          0.399135368
                        ],
                        "iteration": 521,
                        "passed_time": 1.506697726,
                        "remaining_time": 1.379696386
                      },
                      {
                        "learn": [
                          0.3988871891
                        ],
                        "iteration": 522,
                        "passed_time": 1.509328511,
                        "remaining_time": 1.376576863
                      },
                      {
                        "learn": [
                          0.3985943412
                        ],
                        "iteration": 523,
                        "passed_time": 1.511974665,
                        "remaining_time": 1.373473169
                      },
                      {
                        "learn": [
                          0.3984603231
                        ],
                        "iteration": 524,
                        "passed_time": 1.514689966,
                        "remaining_time": 1.370433779
                      },
                      {
                        "learn": [
                          0.398261762
                        ],
                        "iteration": 525,
                        "passed_time": 1.517398283,
                        "remaining_time": 1.367389327
                      },
                      {
                        "learn": [
                          0.3980797787
                        ],
                        "iteration": 526,
                        "passed_time": 1.520005382,
                        "remaining_time": 1.364255304
                      },
                      {
                        "learn": [
                          0.3977849181
                        ],
                        "iteration": 527,
                        "passed_time": 1.522733758,
                        "remaining_time": 1.361231693
                      },
                      {
                        "learn": [
                          0.3975986375
                        ],
                        "iteration": 528,
                        "passed_time": 1.525638014,
                        "remaining_time": 1.358365793
                      },
                      {
                        "learn": [
                          0.3975116497
                        ],
                        "iteration": 529,
                        "passed_time": 1.528172485,
                        "remaining_time": 1.355171827
                      },
                      {
                        "learn": [
                          0.3973366362
                        ],
                        "iteration": 530,
                        "passed_time": 1.5309058,
                        "remaining_time": 1.35215597
                      },
                      {
                        "learn": [
                          0.3971179158
                        ],
                        "iteration": 531,
                        "passed_time": 1.533990619,
                        "remaining_time": 1.349450394
                      },
                      {
                        "learn": [
                          0.3968532775
                        ],
                        "iteration": 532,
                        "passed_time": 1.536785622,
                        "remaining_time": 1.346489466
                      },
                      {
                        "learn": [
                          0.3965715574
                        ],
                        "iteration": 533,
                        "passed_time": 1.539548744,
                        "remaining_time": 1.343501338
                      },
                      {
                        "learn": [
                          0.3964390514
                        ],
                        "iteration": 534,
                        "passed_time": 1.54223475,
                        "remaining_time": 1.340447025
                      },
                      {
                        "learn": [
                          0.396315175
                        ],
                        "iteration": 535,
                        "passed_time": 1.545092946,
                        "remaining_time": 1.337543147
                      },
                      {
                        "learn": [
                          0.3959940972
                        ],
                        "iteration": 536,
                        "passed_time": 1.547779865,
                        "remaining_time": 1.334491765
                      },
                      {
                        "learn": [
                          0.3957572213
                        ],
                        "iteration": 537,
                        "passed_time": 1.550548827,
                        "remaining_time": 1.331512189
                      },
                      {
                        "learn": [
                          0.3954786731
                        ],
                        "iteration": 538,
                        "passed_time": 1.553338201,
                        "remaining_time": 1.328550855
                      },
                      {
                        "learn": [
                          0.3951933661
                        ],
                        "iteration": 539,
                        "passed_time": 1.556309495,
                        "remaining_time": 1.325745125
                      },
                      {
                        "learn": [
                          0.3950254515
                        ],
                        "iteration": 540,
                        "passed_time": 1.558918463,
                        "remaining_time": 1.322631376
                      },
                      {
                        "learn": [
                          0.3948594699
                        ],
                        "iteration": 541,
                        "passed_time": 1.561529056,
                        "remaining_time": 1.319520863
                      },
                      {
                        "learn": [
                          0.3946422437
                        ],
                        "iteration": 542,
                        "passed_time": 1.564308064,
                        "remaining_time": 1.316553932
                      },
                      {
                        "learn": [
                          0.3944280535
                        ],
                        "iteration": 543,
                        "passed_time": 1.567059896,
                        "remaining_time": 1.313564913
                      },
                      {
                        "learn": [
                          0.3941912743
                        ],
                        "iteration": 544,
                        "passed_time": 1.569924024,
                        "remaining_time": 1.310670516
                      },
                      {
                        "learn": [
                          0.3939619097
                        ],
                        "iteration": 545,
                        "passed_time": 1.572609436,
                        "remaining_time": 1.307627626
                      },
                      {
                        "learn": [
                          0.3937273267
                        ],
                        "iteration": 546,
                        "passed_time": 1.575430322,
                        "remaining_time": 1.304698237
                      },
                      {
                        "learn": [
                          0.3935222957
                        ],
                        "iteration": 547,
                        "passed_time": 1.578178206,
                        "remaining_time": 1.301709031
                      },
                      {
                        "learn": [
                          0.3933383234
                        ],
                        "iteration": 548,
                        "passed_time": 1.581092023,
                        "remaining_time": 1.298857017
                      },
                      {
                        "learn": [
                          0.3931613582
                        ],
                        "iteration": 549,
                        "passed_time": 1.584149377,
                        "remaining_time": 1.296122217
                      },
                      {
                        "learn": [
                          0.3929545628
                        ],
                        "iteration": 550,
                        "passed_time": 1.586930068,
                        "remaining_time": 1.293160799
                      },
                      {
                        "learn": [
                          0.3927254783
                        ],
                        "iteration": 551,
                        "passed_time": 1.589746666,
                        "remaining_time": 1.290229179
                      },
                      {
                        "learn": [
                          0.392484087
                        ],
                        "iteration": 552,
                        "passed_time": 1.592502806,
                        "remaining_time": 1.287249104
                      },
                      {
                        "learn": [
                          0.3923517558
                        ],
                        "iteration": 553,
                        "passed_time": 1.595089864,
                        "remaining_time": 1.284133718
                      },
                      {
                        "learn": [
                          0.3921565243
                        ],
                        "iteration": 554,
                        "passed_time": 1.597907582,
                        "remaining_time": 1.281205178
                      },
                      {
                        "learn": [
                          0.3918385334
                        ],
                        "iteration": 555,
                        "passed_time": 1.600582052,
                        "remaining_time": 1.278162646
                      },
                      {
                        "learn": [
                          0.3916419518
                        ],
                        "iteration": 556,
                        "passed_time": 1.603361497,
                        "remaining_time": 1.275204925
                      },
                      {
                        "learn": [
                          0.3914010424
                        ],
                        "iteration": 557,
                        "passed_time": 1.606182375,
                        "remaining_time": 1.272280663
                      },
                      {
                        "learn": [
                          0.3912752072
                        ],
                        "iteration": 558,
                        "passed_time": 1.608784365,
                        "remaining_time": 1.269184088
                      },
                      {
                        "learn": [
                          0.3911272981
                        ],
                        "iteration": 559,
                        "passed_time": 1.611455067,
                        "remaining_time": 1.266143267
                      },
                      {
                        "learn": [
                          0.3909391685
                        ],
                        "iteration": 560,
                        "passed_time": 1.614291957,
                        "remaining_time": 1.263233813
                      },
                      {
                        "learn": [
                          0.3906389617
                        ],
                        "iteration": 561,
                        "passed_time": 1.616847277,
                        "remaining_time": 1.260105173
                      },
                      {
                        "learn": [
                          0.3903153655
                        ],
                        "iteration": 562,
                        "passed_time": 1.619518257,
                        "remaining_time": 1.257068345
                      },
                      {
                        "learn": [
                          0.390130418
                        ],
                        "iteration": 563,
                        "passed_time": 1.622337977,
                        "remaining_time": 1.254147798
                      },
                      {
                        "learn": [
                          0.3899686828
                        ],
                        "iteration": 564,
                        "passed_time": 1.62489859,
                        "remaining_time": 1.251028118
                      },
                      {
                        "learn": [
                          0.3897544184
                        ],
                        "iteration": 565,
                        "passed_time": 1.627668731,
                        "remaining_time": 1.248071076
                      },
                      {
                        "learn": [
                          0.3893812188
                        ],
                        "iteration": 566,
                        "passed_time": 1.630351114,
                        "remaining_time": 1.245047676
                      },
                      {
                        "learn": [
                          0.3892581191
                        ],
                        "iteration": 567,
                        "passed_time": 1.633045866,
                        "remaining_time": 1.242034884
                      },
                      {
                        "learn": [
                          0.3891542722
                        ],
                        "iteration": 568,
                        "passed_time": 1.635630141,
                        "remaining_time": 1.238939527
                      },
                      {
                        "learn": [
                          0.3890059483
                        ],
                        "iteration": 569,
                        "passed_time": 1.638311123,
                        "remaining_time": 1.235918918
                      },
                      {
                        "learn": [
                          0.3888417688
                        ],
                        "iteration": 570,
                        "passed_time": 1.641015269,
                        "remaining_time": 1.232916901
                      },
                      {
                        "learn": [
                          0.3885929853
                        ],
                        "iteration": 571,
                        "passed_time": 1.643760682,
                        "remaining_time": 1.229946804
                      },
                      {
                        "learn": [
                          0.3885418077
                        ],
                        "iteration": 572,
                        "passed_time": 1.646477017,
                        "remaining_time": 1.226955823
                      },
                      {
                        "learn": [
                          0.3883721799
                        ],
                        "iteration": 573,
                        "passed_time": 1.649174455,
                        "remaining_time": 1.223951773
                      },
                      {
                        "learn": [
                          0.3882586045
                        ],
                        "iteration": 574,
                        "passed_time": 1.65198586,
                        "remaining_time": 1.221033027
                      },
                      {
                        "learn": [
                          0.388141555
                        ],
                        "iteration": 575,
                        "passed_time": 1.654535408,
                        "remaining_time": 1.217921897
                      },
                      {
                        "learn": [
                          0.3879143462
                        ],
                        "iteration": 576,
                        "passed_time": 1.657105219,
                        "remaining_time": 1.214827569
                      },
                      {
                        "learn": [
                          0.3877817536
                        ],
                        "iteration": 577,
                        "passed_time": 1.65963796,
                        "remaining_time": 1.211707991
                      },
                      {
                        "learn": [
                          0.3876111397
                        ],
                        "iteration": 578,
                        "passed_time": 1.662487531,
                        "remaining_time": 1.208820813
                      },
                      {
                        "learn": [
                          0.3874264317
                        ],
                        "iteration": 579,
                        "passed_time": 1.666413628,
                        "remaining_time": 1.206713317
                      },
                      {
                        "learn": [
                          0.3873431556
                        ],
                        "iteration": 580,
                        "passed_time": 1.669183084,
                        "remaining_time": 1.203765425
                      },
                      {
                        "learn": [
                          0.3872374862
                        ],
                        "iteration": 581,
                        "passed_time": 1.671824999,
                        "remaining_time": 1.200726546
                      },
                      {
                        "learn": [
                          0.3869234618
                        ],
                        "iteration": 582,
                        "passed_time": 1.67467552,
                        "remaining_time": 1.197838237
                      },
                      {
                        "learn": [
                          0.3867581162
                        ],
                        "iteration": 583,
                        "passed_time": 1.677306384,
                        "remaining_time": 1.194793589
                      },
                      {
                        "learn": [
                          0.3866116009
                        ],
                        "iteration": 584,
                        "passed_time": 1.679995239,
                        "remaining_time": 1.191791495
                      },
                      {
                        "learn": [
                          0.3863914801
                        ],
                        "iteration": 585,
                        "passed_time": 1.682844699,
                        "remaining_time": 1.188903934
                      },
                      {
                        "learn": [
                          0.3860608841
                        ],
                        "iteration": 586,
                        "passed_time": 1.685537443,
                        "remaining_time": 1.185906242
                      },
                      {
                        "learn": [
                          0.3858393009
                        ],
                        "iteration": 587,
                        "passed_time": 1.688244031,
                        "remaining_time": 1.182919287
                      },
                      {
                        "learn": [
                          0.385685281
                        ],
                        "iteration": 588,
                        "passed_time": 1.691097912,
                        "remaining_time": 1.180036064
                      },
                      {
                        "learn": [
                          0.3855396056
                        ],
                        "iteration": 589,
                        "passed_time": 1.693805575,
                        "remaining_time": 1.177051332
                      },
                      {
                        "learn": [
                          0.3854243353
                        ],
                        "iteration": 590,
                        "passed_time": 1.69642042,
                        "remaining_time": 1.174003303
                      },
                      {
                        "learn": [
                          0.385129305
                        ],
                        "iteration": 591,
                        "passed_time": 1.699263182,
                        "remaining_time": 1.171113815
                      },
                      {
                        "learn": [
                          0.3850078281
                        ],
                        "iteration": 592,
                        "passed_time": 1.702102376,
                        "remaining_time": 1.168222036
                      },
                      {
                        "learn": [
                          0.3849045383
                        ],
                        "iteration": 593,
                        "passed_time": 1.705072277,
                        "remaining_time": 1.165419772
                      },
                      {
                        "learn": [
                          0.384781278
                        ],
                        "iteration": 594,
                        "passed_time": 1.707687148,
                        "remaining_time": 1.162375286
                      },
                      {
                        "learn": [
                          0.3845894728
                        ],
                        "iteration": 595,
                        "passed_time": 1.71034205,
                        "remaining_time": 1.159359376
                      },
                      {
                        "learn": [
                          0.3843117537
                        ],
                        "iteration": 596,
                        "passed_time": 1.713053054,
                        "remaining_time": 1.156382547
                      },
                      {
                        "learn": [
                          0.3840185225
                        ],
                        "iteration": 597,
                        "passed_time": 1.715743005,
                        "remaining_time": 1.153392455
                      },
                      {
                        "learn": [
                          0.3839036693
                        ],
                        "iteration": 598,
                        "passed_time": 1.718345345,
                        "remaining_time": 1.150344713
                      },
                      {
                        "learn": [
                          0.3837159031
                        ],
                        "iteration": 599,
                        "passed_time": 1.721002777,
                        "remaining_time": 1.147335184
                      },
                      {
                        "learn": [
                          0.3836147252
                        ],
                        "iteration": 600,
                        "passed_time": 1.723512752,
                        "remaining_time": 1.144228932
                      },
                      {
                        "learn": [
                          0.3834881477
                        ],
                        "iteration": 601,
                        "passed_time": 1.726108784,
                        "remaining_time": 1.141181555
                      },
                      {
                        "learn": [
                          0.3832934066
                        ],
                        "iteration": 602,
                        "passed_time": 1.728739501,
                        "remaining_time": 1.138158511
                      },
                      {
                        "learn": [
                          0.3831761742
                        ],
                        "iteration": 603,
                        "passed_time": 1.731418292,
                        "remaining_time": 1.135168284
                      },
                      {
                        "learn": [
                          0.3829699794
                        ],
                        "iteration": 604,
                        "passed_time": 1.734151184,
                        "remaining_time": 1.13221441
                      },
                      {
                        "learn": [
                          0.3828470617
                        ],
                        "iteration": 605,
                        "passed_time": 1.736842119,
                        "remaining_time": 1.129233985
                      },
                      {
                        "learn": [
                          0.3826192819
                        ],
                        "iteration": 606,
                        "passed_time": 1.739590986,
                        "remaining_time": 1.126292022
                      },
                      {
                        "learn": [
                          0.3824171145
                        ],
                        "iteration": 607,
                        "passed_time": 1.742379553,
                        "remaining_time": 1.123376291
                      },
                      {
                        "learn": [
                          0.3823114704
                        ],
                        "iteration": 608,
                        "passed_time": 1.745044954,
                        "remaining_time": 1.1203819
                      },
                      {
                        "learn": [
                          0.3820784762
                        ],
                        "iteration": 609,
                        "passed_time": 1.747677478,
                        "remaining_time": 1.117367568
                      },
                      {
                        "learn": [
                          0.3819847437
                        ],
                        "iteration": 610,
                        "passed_time": 1.750437739,
                        "remaining_time": 1.114435811
                      },
                      {
                        "learn": [
                          0.3818132224
                        ],
                        "iteration": 611,
                        "passed_time": 1.753211341,
                        "remaining_time": 1.111513073
                      },
                      {
                        "learn": [
                          0.3817316404
                        ],
                        "iteration": 612,
                        "passed_time": 1.755866469,
                        "remaining_time": 1.108516025
                      },
                      {
                        "learn": [
                          0.3815632958
                        ],
                        "iteration": 613,
                        "passed_time": 1.758713184,
                        "remaining_time": 1.105640536
                      },
                      {
                        "learn": [
                          0.3813732323
                        ],
                        "iteration": 614,
                        "passed_time": 1.761446685,
                        "remaining_time": 1.102694266
                      },
                      {
                        "learn": [
                          0.3811587865
                        ],
                        "iteration": 615,
                        "passed_time": 1.764114761,
                        "remaining_time": 1.099707903
                      },
                      {
                        "learn": [
                          0.3810181238
                        ],
                        "iteration": 616,
                        "passed_time": 1.766724686,
                        "remaining_time": 1.096686474
                      },
                      {
                        "learn": [
                          0.3808981939
                        ],
                        "iteration": 617,
                        "passed_time": 1.769558312,
                        "remaining_time": 1.093804652
                      },
                      {
                        "learn": [
                          0.380678031
                        ],
                        "iteration": 618,
                        "passed_time": 1.772368021,
                        "remaining_time": 1.090908265
                      },
                      {
                        "learn": [
                          0.3804539678
                        ],
                        "iteration": 619,
                        "passed_time": 1.775045822,
                        "remaining_time": 1.08793131
                      },
                      {
                        "learn": [
                          0.3802395286
                        ],
                        "iteration": 620,
                        "passed_time": 1.777644274,
                        "remaining_time": 1.084906892
                      },
                      {
                        "learn": [
                          0.3801367589
                        ],
                        "iteration": 621,
                        "passed_time": 1.780434833,
                        "remaining_time": 1.08200059
                      },
                      {
                        "learn": [
                          0.3798749207
                        ],
                        "iteration": 622,
                        "passed_time": 1.783131715,
                        "remaining_time": 1.079037972
                      },
                      {
                        "learn": [
                          0.3797314703
                        ],
                        "iteration": 623,
                        "passed_time": 1.785787019,
                        "remaining_time": 1.076051153
                      },
                      {
                        "learn": [
                          0.3795263005
                        ],
                        "iteration": 624,
                        "passed_time": 1.788558104,
                        "remaining_time": 1.073134863
                      },
                      {
                        "learn": [
                          0.3794350236
                        ],
                        "iteration": 625,
                        "passed_time": 1.791219348,
                        "remaining_time": 1.070153412
                      },
                      {
                        "learn": [
                          0.3792371006
                        ],
                        "iteration": 626,
                        "passed_time": 1.793829038,
                        "remaining_time": 1.067142315
                      },
                      {
                        "learn": [
                          0.3790169302
                        ],
                        "iteration": 627,
                        "passed_time": 1.796600307,
                        "remaining_time": 1.064228208
                      },
                      {
                        "learn": [
                          0.3787527062
                        ],
                        "iteration": 628,
                        "passed_time": 1.799406865,
                        "remaining_time": 1.061335369
                      },
                      {
                        "learn": [
                          0.3786070046
                        ],
                        "iteration": 629,
                        "passed_time": 1.802013956,
                        "remaining_time": 1.058325657
                      },
                      {
                        "learn": [
                          0.3784583895
                        ],
                        "iteration": 630,
                        "passed_time": 1.804759272,
                        "remaining_time": 1.055398053
                      },
                      {
                        "learn": [
                          0.3782526861
                        ],
                        "iteration": 631,
                        "passed_time": 1.807526523,
                        "remaining_time": 1.052483798
                      },
                      {
                        "learn": [
                          0.3780197291
                        ],
                        "iteration": 632,
                        "passed_time": 1.81032616,
                        "remaining_time": 1.049588785
                      },
                      {
                        "learn": [
                          0.3777454978
                        ],
                        "iteration": 633,
                        "passed_time": 1.81286873,
                        "remaining_time": 1.046545671
                      },
                      {
                        "learn": [
                          0.3775921228
                        ],
                        "iteration": 634,
                        "passed_time": 1.815568839,
                        "remaining_time": 1.043594687
                      },
                      {
                        "learn": [
                          0.3775190079
                        ],
                        "iteration": 635,
                        "passed_time": 1.818363683,
                        "remaining_time": 1.040698712
                      },
                      {
                        "learn": [
                          0.3774189922
                        ],
                        "iteration": 636,
                        "passed_time": 1.821054845,
                        "remaining_time": 1.03774397
                      },
                      {
                        "learn": [
                          0.3772393213
                        ],
                        "iteration": 637,
                        "passed_time": 1.823676332,
                        "remaining_time": 1.034750521
                      },
                      {
                        "learn": [
                          0.3770515424
                        ],
                        "iteration": 638,
                        "passed_time": 1.826491447,
                        "remaining_time": 1.031867625
                      },
                      {
                        "learn": [
                          0.3769029741
                        ],
                        "iteration": 639,
                        "passed_time": 1.830471799,
                        "remaining_time": 1.029640387
                      },
                      {
                        "learn": [
                          0.3767804237
                        ],
                        "iteration": 640,
                        "passed_time": 1.833122503,
                        "remaining_time": 1.026662993
                      },
                      {
                        "learn": [
                          0.376644831
                        ],
                        "iteration": 641,
                        "passed_time": 1.835681757,
                        "remaining_time": 1.023635621
                      },
                      {
                        "learn": [
                          0.3764972646
                        ],
                        "iteration": 642,
                        "passed_time": 1.838441763,
                        "remaining_time": 1.020721166
                      },
                      {
                        "learn": [
                          0.3763405262
                        ],
                        "iteration": 643,
                        "passed_time": 1.841225273,
                        "remaining_time": 1.017820182
                      },
                      {
                        "learn": [
                          0.3761633531
                        ],
                        "iteration": 644,
                        "passed_time": 1.843874894,
                        "remaining_time": 1.014845872
                      },
                      {
                        "learn": [
                          0.3759522443
                        ],
                        "iteration": 645,
                        "passed_time": 1.846597798,
                        "remaining_time": 1.011912725
                      },
                      {
                        "learn": [
                          0.3757069911
                        ],
                        "iteration": 646,
                        "passed_time": 1.849353488,
                        "remaining_time": 1.008998117
                      },
                      {
                        "learn": [
                          0.3755283828
                        ],
                        "iteration": 647,
                        "passed_time": 1.853916221,
                        "remaining_time": 1.007065601
                      },
                      {
                        "learn": [
                          0.3752994715
                        ],
                        "iteration": 648,
                        "passed_time": 1.858606708,
                        "remaining_time": 1.005194075
                      },
                      {
                        "learn": [
                          0.3751052713
                        ],
                        "iteration": 649,
                        "passed_time": 1.861982361,
                        "remaining_time": 1.002605887
                      },
                      {
                        "learn": [
                          0.3749918959
                        ],
                        "iteration": 650,
                        "passed_time": 1.865587742,
                        "remaining_time": 1.000138436
                      },
                      {
                        "learn": [
                          0.3748312938
                        ],
                        "iteration": 651,
                        "passed_time": 1.870028158,
                        "remaining_time": 0.9981131886
                      },
                      {
                        "learn": [
                          0.3744965243
                        ],
                        "iteration": 652,
                        "passed_time": 1.875650491,
                        "remaining_time": 0.9967086072
                      },
                      {
                        "learn": [
                          0.3743963754
                        ],
                        "iteration": 653,
                        "passed_time": 1.87847988,
                        "remaining_time": 0.9938135144
                      },
                      {
                        "learn": [
                          0.374276863
                        ],
                        "iteration": 654,
                        "passed_time": 1.88258055,
                        "remaining_time": 0.9915882289
                      },
                      {
                        "learn": [
                          0.3740421577
                        ],
                        "iteration": 655,
                        "passed_time": 1.885875374,
                        "remaining_time": 0.9889346472
                      },
                      {
                        "learn": [
                          0.3738486837
                        ],
                        "iteration": 656,
                        "passed_time": 1.888611764,
                        "remaining_time": 0.9859875726
                      },
                      {
                        "learn": [
                          0.3736558398
                        ],
                        "iteration": 657,
                        "passed_time": 1.891298196,
                        "remaining_time": 0.9830151718
                      },
                      {
                        "learn": [
                          0.3735102573
                        ],
                        "iteration": 658,
                        "passed_time": 1.893882719,
                        "remaining_time": 0.979990906
                      },
                      {
                        "learn": [
                          0.3733138578
                        ],
                        "iteration": 659,
                        "passed_time": 1.896561516,
                        "remaining_time": 0.9770165386
                      },
                      {
                        "learn": [
                          0.3730984894
                        ],
                        "iteration": 660,
                        "passed_time": 1.89937081,
                        "remaining_time": 0.9741099916
                      },
                      {
                        "learn": [
                          0.3729521354
                        ],
                        "iteration": 661,
                        "passed_time": 1.902103482,
                        "remaining_time": 0.9711646178
                      },
                      {
                        "learn": [
                          0.3728037905
                        ],
                        "iteration": 662,
                        "passed_time": 1.904817426,
                        "remaining_time": 0.9682103658
                      },
                      {
                        "learn": [
                          0.3726926206
                        ],
                        "iteration": 663,
                        "passed_time": 1.907467809,
                        "remaining_time": 0.9652246743
                      },
                      {
                        "learn": [
                          0.3724939381
                        ],
                        "iteration": 664,
                        "passed_time": 1.91002967,
                        "remaining_time": 0.9621953977
                      },
                      {
                        "learn": [
                          0.3724051266
                        ],
                        "iteration": 665,
                        "passed_time": 1.912675628,
                        "remaining_time": 0.9592096994
                      },
                      {
                        "learn": [
                          0.3722697587
                        ],
                        "iteration": 666,
                        "passed_time": 1.915243534,
                        "remaining_time": 0.9561860522
                      },
                      {
                        "learn": [
                          0.3721565063
                        ],
                        "iteration": 667,
                        "passed_time": 1.91802578,
                        "remaining_time": 0.9532702978
                      },
                      {
                        "learn": [
                          0.3720623533
                        ],
                        "iteration": 668,
                        "passed_time": 1.920696864,
                        "remaining_time": 0.950299943
                      },
                      {
                        "learn": [
                          0.3718842087
                        ],
                        "iteration": 669,
                        "passed_time": 1.923433003,
                        "remaining_time": 0.9473625237
                      },
                      {
                        "learn": [
                          0.371734838
                        ],
                        "iteration": 670,
                        "passed_time": 1.926174142,
                        "remaining_time": 0.944428156
                      },
                      {
                        "learn": [
                          0.3715694977
                        ],
                        "iteration": 671,
                        "passed_time": 1.929065423,
                        "remaining_time": 0.9415676471
                      },
                      {
                        "learn": [
                          0.3713897529
                        ],
                        "iteration": 672,
                        "passed_time": 1.931860002,
                        "remaining_time": 0.9386600606
                      },
                      {
                        "learn": [
                          0.3712990584
                        ],
                        "iteration": 673,
                        "passed_time": 1.934446837,
                        "remaining_time": 0.9356523275
                      },
                      {
                        "learn": [
                          0.3711367021
                        ],
                        "iteration": 674,
                        "passed_time": 1.937139717,
                        "remaining_time": 0.9326969009
                      },
                      {
                        "learn": [
                          0.3710907292
                        ],
                        "iteration": 675,
                        "passed_time": 1.939872452,
                        "remaining_time": 0.9297613527
                      },
                      {
                        "learn": [
                          0.3707160589
                        ],
                        "iteration": 676,
                        "passed_time": 1.942528657,
                        "remaining_time": 0.926789891
                      },
                      {
                        "learn": [
                          0.370569186
                        ],
                        "iteration": 677,
                        "passed_time": 1.945243248,
                        "remaining_time": 0.9238470885
                      },
                      {
                        "learn": [
                          0.3704118652
                        ],
                        "iteration": 678,
                        "passed_time": 1.94811117,
                        "remaining_time": 0.9209774458
                      },
                      {
                        "learn": [
                          0.3702531995
                        ],
                        "iteration": 679,
                        "passed_time": 1.950759204,
                        "remaining_time": 0.9180043314
                      },
                      {
                        "learn": [
                          0.3700704498
                        ],
                        "iteration": 680,
                        "passed_time": 1.953520256,
                        "remaining_time": 0.9150851126
                      },
                      {
                        "learn": [
                          0.369826934
                        ],
                        "iteration": 681,
                        "passed_time": 1.970420069,
                        "remaining_time": 0.9187589177
                      },
                      {
                        "learn": [
                          0.3696933144
                        ],
                        "iteration": 682,
                        "passed_time": 1.974517401,
                        "remaining_time": 0.9164304776
                      },
                      {
                        "learn": [
                          0.3695803479
                        ],
                        "iteration": 683,
                        "passed_time": 1.986221898,
                        "remaining_time": 0.9176112862
                      },
                      {
                        "learn": [
                          0.3694066428
                        ],
                        "iteration": 684,
                        "passed_time": 1.994503382,
                        "remaining_time": 0.9171803872
                      },
                      {
                        "learn": [
                          0.3691615782
                        ],
                        "iteration": 685,
                        "passed_time": 1.999461847,
                        "remaining_time": 0.9152055683
                      },
                      {
                        "learn": [
                          0.3690609806
                        ],
                        "iteration": 686,
                        "passed_time": 2.00209735,
                        "remaining_time": 0.9121637127
                      },
                      {
                        "learn": [
                          0.3689550384
                        ],
                        "iteration": 687,
                        "passed_time": 2.00488252,
                        "remaining_time": 0.9091909104
                      },
                      {
                        "learn": [
                          0.368742769
                        ],
                        "iteration": 688,
                        "passed_time": 2.007591754,
                        "remaining_time": 0.9061843767
                      },
                      {
                        "learn": [
                          0.3685878622
                        ],
                        "iteration": 689,
                        "passed_time": 2.010269552,
                        "remaining_time": 0.9031645814
                      },
                      {
                        "learn": [
                          0.3683893813
                        ],
                        "iteration": 690,
                        "passed_time": 2.013016288,
                        "remaining_time": 0.9001766034
                      },
                      {
                        "learn": [
                          0.3681750925
                        ],
                        "iteration": 691,
                        "passed_time": 2.01582564,
                        "remaining_time": 0.8972171922
                      },
                      {
                        "learn": [
                          0.3680042838
                        ],
                        "iteration": 692,
                        "passed_time": 2.018461372,
                        "remaining_time": 0.8941813004
                      },
                      {
                        "learn": [
                          0.3677641342
                        ],
                        "iteration": 693,
                        "passed_time": 2.021200794,
                        "remaining_time": 0.8911922807
                      },
                      {
                        "learn": [
                          0.3677076637
                        ],
                        "iteration": 694,
                        "passed_time": 2.023843288,
                        "remaining_time": 0.8881614429
                      },
                      {
                        "learn": [
                          0.3676076422
                        ],
                        "iteration": 695,
                        "passed_time": 2.026632558,
                        "remaining_time": 0.8851958299
                      },
                      {
                        "learn": [
                          0.3674919062
                        ],
                        "iteration": 696,
                        "passed_time": 2.029376591,
                        "remaining_time": 0.8822110575
                      },
                      {
                        "learn": [
                          0.3673126655
                        ],
                        "iteration": 697,
                        "passed_time": 2.032116428,
                        "remaining_time": 0.8792251593
                      },
                      {
                        "learn": [
                          0.367190893
                        ],
                        "iteration": 698,
                        "passed_time": 2.034964142,
                        "remaining_time": 0.8762864187
                      },
                      {
                        "learn": [
                          0.3670237627
                        ],
                        "iteration": 699,
                        "passed_time": 2.037689344,
                        "remaining_time": 0.8732954332
                      },
                      {
                        "learn": [
                          0.3668229337
                        ],
                        "iteration": 700,
                        "passed_time": 2.040421197,
                        "remaining_time": 0.8703080429
                      },
                      {
                        "learn": [
                          0.3665995105
                        ],
                        "iteration": 701,
                        "passed_time": 2.044859297,
                        "remaining_time": 0.8680456844
                      },
                      {
                        "learn": [
                          0.3664587514
                        ],
                        "iteration": 702,
                        "passed_time": 2.047714971,
                        "remaining_time": 0.8651086009
                      },
                      {
                        "learn": [
                          0.3663002823
                        ],
                        "iteration": 703,
                        "passed_time": 2.050358005,
                        "remaining_time": 0.8620823429
                      },
                      {
                        "learn": [
                          0.3661045312
                        ],
                        "iteration": 704,
                        "passed_time": 2.053100061,
                        "remaining_time": 0.8590986072
                      },
                      {
                        "learn": [
                          0.3658285804
                        ],
                        "iteration": 705,
                        "passed_time": 2.056067649,
                        "remaining_time": 0.8562094741
                      },
                      {
                        "learn": [
                          0.3657068968
                        ],
                        "iteration": 706,
                        "passed_time": 2.05883121,
                        "remaining_time": 0.853235565
                      },
                      {
                        "learn": [
                          0.365532082
                        ],
                        "iteration": 707,
                        "passed_time": 2.061509767,
                        "remaining_time": 0.8502271921
                      },
                      {
                        "learn": [
                          0.3654270113
                        ],
                        "iteration": 708,
                        "passed_time": 2.064318186,
                        "remaining_time": 0.8472730495
                      },
                      {
                        "learn": [
                          0.3653160095
                        ],
                        "iteration": 709,
                        "passed_time": 2.067129503,
                        "remaining_time": 0.844320501
                      },
                      {
                        "learn": [
                          0.3650914815
                        ],
                        "iteration": 710,
                        "passed_time": 2.069777611,
                        "remaining_time": 0.8413020105
                      },
                      {
                        "learn": [
                          0.3649221537
                        ],
                        "iteration": 711,
                        "passed_time": 2.072579787,
                        "remaining_time": 0.8383468801
                      },
                      {
                        "learn": [
                          0.3647568127
                        ],
                        "iteration": 712,
                        "passed_time": 2.07541161,
                        "remaining_time": 0.8354041123
                      },
                      {
                        "learn": [
                          0.364496327
                        ],
                        "iteration": 713,
                        "passed_time": 2.078133786,
                        "remaining_time": 0.8324177349
                      },
                      {
                        "learn": [
                          0.3643801536
                        ],
                        "iteration": 714,
                        "passed_time": 2.080821691,
                        "remaining_time": 0.8294184361
                      },
                      {
                        "learn": [
                          0.364224106
                        ],
                        "iteration": 715,
                        "passed_time": 2.083600737,
                        "remaining_time": 0.8264561582
                      },
                      {
                        "learn": [
                          0.3640658283
                        ],
                        "iteration": 716,
                        "passed_time": 2.086393446,
                        "remaining_time": 0.8234997843
                      },
                      {
                        "learn": [
                          0.3638596735
                        ],
                        "iteration": 717,
                        "passed_time": 2.08907999,
                        "remaining_time": 0.8205021689
                      },
                      {
                        "learn": [
                          0.3636955048
                        ],
                        "iteration": 718,
                        "passed_time": 2.091691762,
                        "remaining_time": 0.8174761964
                      },
                      {
                        "learn": [
                          0.363570306
                        ],
                        "iteration": 719,
                        "passed_time": 2.094536048,
                        "remaining_time": 0.8145417965
                      },
                      {
                        "learn": [
                          0.3635047006
                        ],
                        "iteration": 720,
                        "passed_time": 2.097104207,
                        "remaining_time": 0.8115007956
                      },
                      {
                        "learn": [
                          0.3633305353
                        ],
                        "iteration": 721,
                        "passed_time": 2.100087292,
                        "remaining_time": 0.8086208688
                      },
                      {
                        "learn": [
                          0.363205746
                        ],
                        "iteration": 722,
                        "passed_time": 2.102943797,
                        "remaining_time": 0.8056921603
                      },
                      {
                        "learn": [
                          0.3631124797
                        ],
                        "iteration": 723,
                        "passed_time": 2.105696082,
                        "remaining_time": 0.8027239207
                      },
                      {
                        "learn": [
                          0.362798389
                        ],
                        "iteration": 724,
                        "passed_time": 2.108342987,
                        "remaining_time": 0.7997163054
                      },
                      {
                        "learn": [
                          0.3626709315
                        ],
                        "iteration": 725,
                        "passed_time": 2.110934934,
                        "remaining_time": 0.7966889419
                      },
                      {
                        "learn": [
                          0.3625215896
                        ],
                        "iteration": 726,
                        "passed_time": 2.113573372,
                        "remaining_time": 0.7936802346
                      },
                      {
                        "learn": [
                          0.3623393272
                        ],
                        "iteration": 727,
                        "passed_time": 2.116366802,
                        "remaining_time": 0.7907304536
                      },
                      {
                        "learn": [
                          0.3621788767
                        ],
                        "iteration": 728,
                        "passed_time": 2.119164865,
                        "remaining_time": 0.7877828237
                      },
                      {
                        "learn": [
                          0.362032176
                        ],
                        "iteration": 729,
                        "passed_time": 2.121790312,
                        "remaining_time": 0.7847717591
                      },
                      {
                        "learn": [
                          0.3618671468
                        ],
                        "iteration": 730,
                        "passed_time": 2.125408383,
                        "remaining_time": 0.7821270248
                      },
                      {
                        "learn": [
                          0.3617730781
                        ],
                        "iteration": 731,
                        "passed_time": 2.128042813,
                        "remaining_time": 0.7791194999
                      },
                      {
                        "learn": [
                          0.3616377983
                        ],
                        "iteration": 732,
                        "passed_time": 2.13063021,
                        "remaining_time": 0.7760958609
                      },
                      {
                        "learn": [
                          0.3615486578
                        ],
                        "iteration": 733,
                        "passed_time": 2.133228626,
                        "remaining_time": 0.773077404
                      },
                      {
                        "learn": [
                          0.3614431873
                        ],
                        "iteration": 734,
                        "passed_time": 2.136122097,
                        "remaining_time": 0.7701664704
                      },
                      {
                        "learn": [
                          0.361266191
                        ],
                        "iteration": 735,
                        "passed_time": 2.138828447,
                        "remaining_time": 0.7671884646
                      },
                      {
                        "learn": [
                          0.3610703922
                        ],
                        "iteration": 736,
                        "passed_time": 2.14164469,
                        "remaining_time": 0.7642504119
                      },
                      {
                        "learn": [
                          0.3607813373
                        ],
                        "iteration": 737,
                        "passed_time": 2.144365253,
                        "remaining_time": 0.7612787213
                      },
                      {
                        "learn": [
                          0.3606752501
                        ],
                        "iteration": 738,
                        "passed_time": 2.147078061,
                        "remaining_time": 0.7583049714
                      },
                      {
                        "learn": [
                          0.3606200721
                        ],
                        "iteration": 739,
                        "passed_time": 2.149703804,
                        "remaining_time": 0.7553013365
                      },
                      {
                        "learn": [
                          0.3603669092
                        ],
                        "iteration": 740,
                        "passed_time": 2.152670711,
                        "remaining_time": 0.7524179679
                      },
                      {
                        "learn": [
                          0.3602171665
                        ],
                        "iteration": 741,
                        "passed_time": 2.155413427,
                        "remaining_time": 0.7494564208
                      },
                      {
                        "learn": [
                          0.3601782348
                        ],
                        "iteration": 742,
                        "passed_time": 2.158102442,
                        "remaining_time": 0.7464768876
                      },
                      {
                        "learn": [
                          0.3600743603
                        ],
                        "iteration": 743,
                        "passed_time": 2.160860665,
                        "remaining_time": 0.7435219492
                      },
                      {
                        "learn": [
                          0.3598883301
                        ],
                        "iteration": 744,
                        "passed_time": 2.163840486,
                        "remaining_time": 0.7406433878
                      },
                      {
                        "learn": [
                          0.3597786584
                        ],
                        "iteration": 745,
                        "passed_time": 2.166517936,
                        "remaining_time": 0.737661603
                      },
                      {
                        "learn": [
                          0.3596510835
                        ],
                        "iteration": 746,
                        "passed_time": 2.169318202,
                        "remaining_time": 0.7347222289
                      },
                      {
                        "learn": [
                          0.3595251111
                        ],
                        "iteration": 747,
                        "passed_time": 2.172148815,
                        "remaining_time": 0.7317934509
                      },
                      {
                        "learn": [
                          0.3592265923
                        ],
                        "iteration": 748,
                        "passed_time": 2.174889575,
                        "remaining_time": 0.7288348243
                      },
                      {
                        "learn": [
                          0.3590679643
                        ],
                        "iteration": 749,
                        "passed_time": 2.177617311,
                        "remaining_time": 0.7258724371
                      },
                      {
                        "learn": [
                          0.3588929349
                        ],
                        "iteration": 750,
                        "passed_time": 2.180313341,
                        "remaining_time": 0.7229001622
                      },
                      {
                        "learn": [
                          0.3586640725
                        ],
                        "iteration": 751,
                        "passed_time": 2.183167421,
                        "remaining_time": 0.7199807453
                      },
                      {
                        "learn": [
                          0.3585099467
                        ],
                        "iteration": 752,
                        "passed_time": 2.185916778,
                        "remaining_time": 0.7170271502
                      },
                      {
                        "learn": [
                          0.3583898141
                        ],
                        "iteration": 753,
                        "passed_time": 2.188655877,
                        "remaining_time": 0.7140707502
                      },
                      {
                        "learn": [
                          0.3582469225
                        ],
                        "iteration": 754,
                        "passed_time": 2.191265425,
                        "remaining_time": 0.7110728863
                      },
                      {
                        "learn": [
                          0.3581588003
                        ],
                        "iteration": 755,
                        "passed_time": 2.193944835,
                        "remaining_time": 0.7080985974
                      },
                      {
                        "learn": [
                          0.3579789972
                        ],
                        "iteration": 756,
                        "passed_time": 2.196619221,
                        "remaining_time": 0.7051234752
                      },
                      {
                        "learn": [
                          0.3578916369
                        ],
                        "iteration": 757,
                        "passed_time": 2.199230122,
                        "remaining_time": 0.702128878
                      },
                      {
                        "learn": [
                          0.357723636
                        ],
                        "iteration": 758,
                        "passed_time": 2.202269848,
                        "remaining_time": 0.6992714538
                      },
                      {
                        "learn": [
                          0.3573738457
                        ],
                        "iteration": 759,
                        "passed_time": 2.204888478,
                        "remaining_time": 0.6962805718
                      },
                      {
                        "learn": [
                          0.3572394572
                        ],
                        "iteration": 760,
                        "passed_time": 2.207606679,
                        "remaining_time": 0.6933219398
                      },
                      {
                        "learn": [
                          0.3571354015
                        ],
                        "iteration": 761,
                        "passed_time": 2.210395685,
                        "remaining_time": 0.6903860538
                      },
                      {
                        "learn": [
                          0.3569993727
                        ],
                        "iteration": 762,
                        "passed_time": 2.213146966,
                        "remaining_time": 0.6874388348
                      },
                      {
                        "learn": [
                          0.356830487
                        ],
                        "iteration": 763,
                        "passed_time": 2.215794473,
                        "remaining_time": 0.6844600728
                      },
                      {
                        "learn": [
                          0.3567009472
                        ],
                        "iteration": 764,
                        "passed_time": 2.218402367,
                        "remaining_time": 0.681470008
                      },
                      {
                        "learn": [
                          0.3565593782
                        ],
                        "iteration": 765,
                        "passed_time": 2.221131133,
                        "remaining_time": 0.6785178656
                      },
                      {
                        "learn": [
                          0.3563977065
                        ],
                        "iteration": 766,
                        "passed_time": 2.223958653,
                        "remaining_time": 0.6755963053
                      },
                      {
                        "learn": [
                          0.3562333527
                        ],
                        "iteration": 767,
                        "passed_time": 2.226528965,
                        "remaining_time": 0.6725972915
                      },
                      {
                        "learn": [
                          0.356024798
                        ],
                        "iteration": 768,
                        "passed_time": 2.229312057,
                        "remaining_time": 0.6696633097
                      },
                      {
                        "learn": [
                          0.3559094945
                        ],
                        "iteration": 769,
                        "passed_time": 2.234119047,
                        "remaining_time": 0.6673342607
                      },
                      {
                        "learn": [
                          0.3557833934
                        ],
                        "iteration": 770,
                        "passed_time": 2.23679971,
                        "remaining_time": 0.6643672291
                      },
                      {
                        "learn": [
                          0.3557020253
                        ],
                        "iteration": 771,
                        "passed_time": 2.238897976,
                        "remaining_time": 0.661228936
                      },
                      {
                        "learn": [
                          0.3555781755
                        ],
                        "iteration": 772,
                        "passed_time": 2.241779627,
                        "remaining_time": 0.6583233832
                      },
                      {
                        "learn": [
                          0.3554716745
                        ],
                        "iteration": 773,
                        "passed_time": 2.24478427,
                        "remaining_time": 0.6554538048
                      },
                      {
                        "learn": [
                          0.3552809702
                        ],
                        "iteration": 774,
                        "passed_time": 2.247524912,
                        "remaining_time": 0.6525072325
                      },
                      {
                        "learn": [
                          0.3551558217
                        ],
                        "iteration": 775,
                        "passed_time": 2.250309326,
                        "remaining_time": 0.6495738262
                      },
                      {
                        "learn": [
                          0.3550782131
                        ],
                        "iteration": 776,
                        "passed_time": 2.252950547,
                        "remaining_time": 0.6465997066
                      },
                      {
                        "learn": [
                          0.3549980686
                        ],
                        "iteration": 777,
                        "passed_time": 2.255604388,
                        "remaining_time": 0.6436300437
                      },
                      {
                        "learn": [
                          0.3549229898
                        ],
                        "iteration": 778,
                        "passed_time": 2.258276048,
                        "remaining_time": 0.6406662472
                      },
                      {
                        "learn": [
                          0.3547043075
                        ],
                        "iteration": 779,
                        "passed_time": 2.260995155,
                        "remaining_time": 0.6377165823
                      },
                      {
                        "learn": [
                          0.3546364267
                        ],
                        "iteration": 780,
                        "passed_time": 2.263006853,
                        "remaining_time": 0.6345691432
                      },
                      {
                        "learn": [
                          0.3544020604
                        ],
                        "iteration": 781,
                        "passed_time": 2.265793736,
                        "remaining_time": 0.6316407091
                      },
                      {
                        "learn": [
                          0.3543362467
                        ],
                        "iteration": 782,
                        "passed_time": 2.268474577,
                        "remaining_time": 0.6286832479
                      },
                      {
                        "learn": [
                          0.3542248682
                        ],
                        "iteration": 783,
                        "passed_time": 2.271355407,
                        "remaining_time": 0.6257815917
                      },
                      {
                        "learn": [
                          0.3541003019
                        ],
                        "iteration": 784,
                        "passed_time": 2.274241674,
                        "remaining_time": 0.6228814775
                      },
                      {
                        "learn": [
                          0.3540106214
                        ],
                        "iteration": 785,
                        "passed_time": 2.276885759,
                        "remaining_time": 0.6199154612
                      },
                      {
                        "learn": [
                          0.3537757028
                        ],
                        "iteration": 786,
                        "passed_time": 2.279834014,
                        "remaining_time": 0.6170325858
                      },
                      {
                        "learn": [
                          0.3536462385
                        ],
                        "iteration": 787,
                        "passed_time": 2.28247116,
                        "remaining_time": 0.6140658451
                      },
                      {
                        "learn": [
                          0.353454642
                        ],
                        "iteration": 788,
                        "passed_time": 2.285405473,
                        "remaining_time": 0.6111794105
                      },
                      {
                        "learn": [
                          0.3533086685
                        ],
                        "iteration": 789,
                        "passed_time": 2.288103933,
                        "remaining_time": 0.6082301593
                      },
                      {
                        "learn": [
                          0.3531374331
                        ],
                        "iteration": 790,
                        "passed_time": 2.291140788,
                        "remaining_time": 0.6053709541
                      },
                      {
                        "learn": [
                          0.3529505669
                        ],
                        "iteration": 791,
                        "passed_time": 2.293736554,
                        "remaining_time": 0.6023954587
                      },
                      {
                        "learn": [
                          0.352901157
                        ],
                        "iteration": 792,
                        "passed_time": 2.296244591,
                        "remaining_time": 0.5993980205
                      },
                      {
                        "learn": [
                          0.3528413661
                        ],
                        "iteration": 793,
                        "passed_time": 2.298258523,
                        "remaining_time": 0.5962736219
                      },
                      {
                        "learn": [
                          0.3526972324
                        ],
                        "iteration": 794,
                        "passed_time": 2.301161158,
                        "remaining_time": 0.5933811792
                      },
                      {
                        "learn": [
                          0.3524915335
                        ],
                        "iteration": 795,
                        "passed_time": 2.303911839,
                        "remaining_time": 0.5904497678
                      },
                      {
                        "learn": [
                          0.3523558024
                        ],
                        "iteration": 796,
                        "passed_time": 2.306650005,
                        "remaining_time": 0.5875156223
                      },
                      {
                        "learn": [
                          0.3521802839
                        ],
                        "iteration": 797,
                        "passed_time": 2.309555753,
                        "remaining_time": 0.5846243887
                      },
                      {
                        "learn": [
                          0.352008851
                        ],
                        "iteration": 798,
                        "passed_time": 2.312200136,
                        "remaining_time": 0.5816673684
                      },
                      {
                        "learn": [
                          0.3518709248
                        ],
                        "iteration": 799,
                        "passed_time": 2.31476061,
                        "remaining_time": 0.5786901524
                      },
                      {
                        "learn": [
                          0.3517262731
                        ],
                        "iteration": 800,
                        "passed_time": 2.317468447,
                        "remaining_time": 0.5757505879
                      },
                      {
                        "learn": [
                          0.3515429685
                        ],
                        "iteration": 801,
                        "passed_time": 2.320488126,
                        "remaining_time": 0.5728885897
                      },
                      {
                        "learn": [
                          0.3514223627
                        ],
                        "iteration": 802,
                        "passed_time": 2.323282743,
                        "remaining_time": 0.5699709843
                      },
                      {
                        "learn": [
                          0.3512727972
                        ],
                        "iteration": 803,
                        "passed_time": 2.325908117,
                        "remaining_time": 0.5670124264
                      },
                      {
                        "learn": [
                          0.3510704156
                        ],
                        "iteration": 804,
                        "passed_time": 2.328797506,
                        "remaining_time": 0.5641186505
                      },
                      {
                        "learn": [
                          0.3509567286
                        ],
                        "iteration": 805,
                        "passed_time": 2.331644267,
                        "remaining_time": 0.5612146251
                      },
                      {
                        "learn": [
                          0.3508311569
                        ],
                        "iteration": 806,
                        "passed_time": 2.334363968,
                        "remaining_time": 0.5582803541
                      },
                      {
                        "learn": [
                          0.3506812985
                        ],
                        "iteration": 807,
                        "passed_time": 2.337102961,
                        "remaining_time": 0.5553511987
                      },
                      {
                        "learn": [
                          0.3505192257
                        ],
                        "iteration": 808,
                        "passed_time": 2.339932298,
                        "remaining_time": 0.5524438429
                      },
                      {
                        "learn": [
                          0.3504093521
                        ],
                        "iteration": 809,
                        "passed_time": 2.34255976,
                        "remaining_time": 0.5494893265
                      },
                      {
                        "learn": [
                          0.350232286
                        ],
                        "iteration": 810,
                        "passed_time": 2.345217748,
                        "remaining_time": 0.5465427305
                      },
                      {
                        "learn": [
                          0.3500867525
                        ],
                        "iteration": 811,
                        "passed_time": 2.348034453,
                        "remaining_time": 0.5436335926
                      },
                      {
                        "learn": [
                          0.3499436632
                        ],
                        "iteration": 812,
                        "passed_time": 2.350905754,
                        "remaining_time": 0.54073724
                      },
                      {
                        "learn": [
                          0.3497998474
                        ],
                        "iteration": 813,
                        "passed_time": 2.353759176,
                        "remaining_time": 0.5378368634
                      },
                      {
                        "learn": [
                          0.3496093549
                        ],
                        "iteration": 814,
                        "passed_time": 2.356555054,
                        "remaining_time": 0.5349235398
                      },
                      {
                        "learn": [
                          0.3494915329
                        ],
                        "iteration": 815,
                        "passed_time": 2.359420815,
                        "remaining_time": 0.5320262621
                      },
                      {
                        "learn": [
                          0.3493292968
                        ],
                        "iteration": 816,
                        "passed_time": 2.362168382,
                        "remaining_time": 0.5291025874
                      },
                      {
                        "learn": [
                          0.3492397406
                        ],
                        "iteration": 817,
                        "passed_time": 2.364714467,
                        "remaining_time": 0.5261345147
                      },
                      {
                        "learn": [
                          0.3490980191
                        ],
                        "iteration": 818,
                        "passed_time": 2.367610925,
                        "remaining_time": 0.5232449053
                      },
                      {
                        "learn": [
                          0.3490072777
                        ],
                        "iteration": 819,
                        "passed_time": 2.370268078,
                        "remaining_time": 0.5203027488
                      },
                      {
                        "learn": [
                          0.348907493
                        ],
                        "iteration": 820,
                        "passed_time": 2.372839016,
                        "remaining_time": 0.5173424895
                      },
                      {
                        "learn": [
                          0.3487607069
                        ],
                        "iteration": 821,
                        "passed_time": 2.375498277,
                        "remaining_time": 0.5144023032
                      },
                      {
                        "learn": [
                          0.3486127014
                        ],
                        "iteration": 822,
                        "passed_time": 2.378471864,
                        "remaining_time": 0.5115304009
                      },
                      {
                        "learn": [
                          0.348523317
                        ],
                        "iteration": 823,
                        "passed_time": 2.381175274,
                        "remaining_time": 0.508600544
                      },
                      {
                        "learn": [
                          0.3484699688
                        ],
                        "iteration": 824,
                        "passed_time": 2.383735192,
                        "remaining_time": 0.5056407983
                      },
                      {
                        "learn": [
                          0.3483956352
                        ],
                        "iteration": 825,
                        "passed_time": 2.386370941,
                        "remaining_time": 0.5026979948
                      },
                      {
                        "learn": [
                          0.3482809523
                        ],
                        "iteration": 826,
                        "passed_time": 2.389191755,
                        "remaining_time": 0.4997946478
                      },
                      {
                        "learn": [
                          0.3481110684
                        ],
                        "iteration": 827,
                        "passed_time": 2.391926167,
                        "remaining_time": 0.4968735515
                      },
                      {
                        "learn": [
                          0.3479238137
                        ],
                        "iteration": 828,
                        "passed_time": 2.395027399,
                        "remaining_time": 0.4940285708
                      },
                      {
                        "learn": [
                          0.3477586338
                        ],
                        "iteration": 829,
                        "passed_time": 2.398005994,
                        "remaining_time": 0.4911578542
                      },
                      {
                        "learn": [
                          0.3476707042
                        ],
                        "iteration": 830,
                        "passed_time": 2.400801463,
                        "remaining_time": 0.4882496357
                      },
                      {
                        "learn": [
                          0.347607686
                        ],
                        "iteration": 831,
                        "passed_time": 2.403558717,
                        "remaining_time": 0.4853339716
                      },
                      {
                        "learn": [
                          0.3474041424
                        ],
                        "iteration": 832,
                        "passed_time": 2.406283255,
                        "remaining_time": 0.4824121292
                      },
                      {
                        "learn": [
                          0.3471055036
                        ],
                        "iteration": 833,
                        "passed_time": 2.409138345,
                        "remaining_time": 0.4795167449
                      },
                      {
                        "learn": [
                          0.3469854131
                        ],
                        "iteration": 834,
                        "passed_time": 2.411812266,
                        "remaining_time": 0.4765856574
                      },
                      {
                        "learn": [
                          0.3469137647
                        ],
                        "iteration": 835,
                        "passed_time": 2.414987741,
                        "remaining_time": 0.473753576
                      },
                      {
                        "learn": [
                          0.3468173442
                        ],
                        "iteration": 836,
                        "passed_time": 2.417720083,
                        "remaining_time": 0.4708343771
                      },
                      {
                        "learn": [
                          0.3466889943
                        ],
                        "iteration": 837,
                        "passed_time": 2.420579609,
                        "remaining_time": 0.4679402109
                      },
                      {
                        "learn": [
                          0.3465800408
                        ],
                        "iteration": 838,
                        "passed_time": 2.423251844,
                        "remaining_time": 0.4650101871
                      },
                      {
                        "learn": [
                          0.346507647
                        ],
                        "iteration": 839,
                        "passed_time": 2.425838997,
                        "remaining_time": 0.4620645708
                      },
                      {
                        "learn": [
                          0.3463332126
                        ],
                        "iteration": 840,
                        "passed_time": 2.428635652,
                        "remaining_time": 0.4591594158
                      },
                      {
                        "learn": [
                          0.3462097399
                        ],
                        "iteration": 841,
                        "passed_time": 2.431219018,
                        "remaining_time": 0.4562144951
                      },
                      {
                        "learn": [
                          0.3461320405
                        ],
                        "iteration": 842,
                        "passed_time": 2.433922537,
                        "remaining_time": 0.4532928094
                      },
                      {
                        "learn": [
                          0.346087004
                        ],
                        "iteration": 843,
                        "passed_time": 2.436690131,
                        "remaining_time": 0.4503834839
                      },
                      {
                        "learn": [
                          0.3457843675
                        ],
                        "iteration": 844,
                        "passed_time": 2.439416977,
                        "remaining_time": 0.4474670194
                      },
                      {
                        "learn": [
                          0.3456301547
                        ],
                        "iteration": 845,
                        "passed_time": 2.442161667,
                        "remaining_time": 0.4445542514
                      },
                      {
                        "learn": [
                          0.3455181688
                        ],
                        "iteration": 846,
                        "passed_time": 2.444844796,
                        "remaining_time": 0.44163076
                      },
                      {
                        "learn": [
                          0.3453115474
                        ],
                        "iteration": 847,
                        "passed_time": 2.447646467,
                        "remaining_time": 0.4387290837
                      },
                      {
                        "learn": [
                          0.3452574753
                        ],
                        "iteration": 848,
                        "passed_time": 2.450263767,
                        "remaining_time": 0.4357948513
                      },
                      {
                        "learn": [
                          0.3450307732
                        ],
                        "iteration": 849,
                        "passed_time": 2.453006667,
                        "remaining_time": 0.4328835295
                      },
                      {
                        "learn": [
                          0.3447775846
                        ],
                        "iteration": 850,
                        "passed_time": 2.45581825,
                        "remaining_time": 0.429984629
                      },
                      {
                        "learn": [
                          0.3446344618
                        ],
                        "iteration": 851,
                        "passed_time": 2.458734264,
                        "remaining_time": 0.427104074
                      },
                      {
                        "learn": [
                          0.3445699423
                        ],
                        "iteration": 852,
                        "passed_time": 2.461478182,
                        "remaining_time": 0.4241937782
                      },
                      {
                        "learn": [
                          0.3444715229
                        ],
                        "iteration": 853,
                        "passed_time": 2.464172061,
                        "remaining_time": 0.4212753172
                      },
                      {
                        "learn": [
                          0.3443198154
                        ],
                        "iteration": 854,
                        "passed_time": 2.466946043,
                        "remaining_time": 0.4183709664
                      },
                      {
                        "learn": [
                          0.3441679297
                        ],
                        "iteration": 855,
                        "passed_time": 2.46973349,
                        "remaining_time": 0.4154691853
                      },
                      {
                        "learn": [
                          0.3440931498
                        ],
                        "iteration": 856,
                        "passed_time": 2.472398926,
                        "remaining_time": 0.412547312
                      },
                      {
                        "learn": [
                          0.3438839416
                        ],
                        "iteration": 857,
                        "passed_time": 2.475280224,
                        "remaining_time": 0.4096617621
                      },
                      {
                        "learn": [
                          0.3437543558
                        ],
                        "iteration": 858,
                        "passed_time": 2.478069428,
                        "remaining_time": 0.4067611052
                      },
                      {
                        "learn": [
                          0.3436877543
                        ],
                        "iteration": 859,
                        "passed_time": 2.480597014,
                        "remaining_time": 0.4038181186
                      },
                      {
                        "learn": [
                          0.3435719482
                        ],
                        "iteration": 860,
                        "passed_time": 2.483216708,
                        "remaining_time": 0.4008909669
                      },
                      {
                        "learn": [
                          0.3433699655
                        ],
                        "iteration": 861,
                        "passed_time": 2.485900987,
                        "remaining_time": 0.397974868
                      },
                      {
                        "learn": [
                          0.3433093024
                        ],
                        "iteration": 862,
                        "passed_time": 2.488442348,
                        "remaining_time": 0.3950366184
                      },
                      {
                        "learn": [
                          0.3432060982
                        ],
                        "iteration": 863,
                        "passed_time": 2.491143082,
                        "remaining_time": 0.3921243741
                      },
                      {
                        "learn": [
                          0.3431396593
                        ],
                        "iteration": 864,
                        "passed_time": 2.49379084,
                        "remaining_time": 0.3892043508
                      },
                      {
                        "learn": [
                          0.3429889952
                        ],
                        "iteration": 865,
                        "passed_time": 2.496660555,
                        "remaining_time": 0.3863193007
                      },
                      {
                        "learn": [
                          0.3429025341
                        ],
                        "iteration": 866,
                        "passed_time": 2.499362456,
                        "remaining_time": 0.3834085429
                      },
                      {
                        "learn": [
                          0.3426700815
                        ],
                        "iteration": 867,
                        "passed_time": 2.502012939,
                        "remaining_time": 0.380490447
                      },
                      {
                        "learn": [
                          0.3425378626
                        ],
                        "iteration": 868,
                        "passed_time": 2.50479373,
                        "remaining_time": 0.3775926106
                      },
                      {
                        "learn": [
                          0.3424081476
                        ],
                        "iteration": 869,
                        "passed_time": 2.50743883,
                        "remaining_time": 0.3746747677
                      },
                      {
                        "learn": [
                          0.3423144662
                        ],
                        "iteration": 870,
                        "passed_time": 2.510187835,
                        "remaining_time": 0.37177294
                      },
                      {
                        "learn": [
                          0.3421870735
                        ],
                        "iteration": 871,
                        "passed_time": 2.512821704,
                        "remaining_time": 0.3688545621
                      },
                      {
                        "learn": [
                          0.342137983
                        ],
                        "iteration": 872,
                        "passed_time": 2.515615637,
                        "remaining_time": 0.3659601213
                      },
                      {
                        "learn": [
                          0.3420281786
                        ],
                        "iteration": 873,
                        "passed_time": 2.518348129,
                        "remaining_time": 0.363057053
                      },
                      {
                        "learn": [
                          0.3418158377
                        ],
                        "iteration": 874,
                        "passed_time": 2.521019834,
                        "remaining_time": 0.3601456905
                      },
                      {
                        "learn": [
                          0.3417382954
                        ],
                        "iteration": 875,
                        "passed_time": 2.523711648,
                        "remaining_time": 0.3572377218
                      },
                      {
                        "learn": [
                          0.3416442568
                        ],
                        "iteration": 876,
                        "passed_time": 2.52655493,
                        "remaining_time": 0.3543514896
                      },
                      {
                        "learn": [
                          0.3415495575
                        ],
                        "iteration": 877,
                        "passed_time": 2.529163287,
                        "remaining_time": 0.3514327119
                      },
                      {
                        "learn": [
                          0.3414777046
                        ],
                        "iteration": 878,
                        "passed_time": 2.531838251,
                        "remaining_time": 0.3485238093
                      },
                      {
                        "learn": [
                          0.341298643
                        ],
                        "iteration": 879,
                        "passed_time": 2.534745468,
                        "remaining_time": 0.3456471093
                      },
                      {
                        "learn": [
                          0.34115077
                        ],
                        "iteration": 880,
                        "passed_time": 2.537310453,
                        "remaining_time": 0.3427241135
                      },
                      {
                        "learn": [
                          0.3410803196
                        ],
                        "iteration": 881,
                        "passed_time": 2.53999287,
                        "remaining_time": 0.3398176403
                      },
                      {
                        "learn": [
                          0.3409580784
                        ],
                        "iteration": 882,
                        "passed_time": 2.542843058,
                        "remaining_time": 0.3369339046
                      },
                      {
                        "learn": [
                          0.3408025799
                        ],
                        "iteration": 883,
                        "passed_time": 2.545855728,
                        "remaining_time": 0.3340715661
                      },
                      {
                        "learn": [
                          0.3406780413
                        ],
                        "iteration": 884,
                        "passed_time": 2.548712871,
                        "remaining_time": 0.3311886781
                      },
                      {
                        "learn": [
                          0.3404894275
                        ],
                        "iteration": 885,
                        "passed_time": 2.551442548,
                        "remaining_time": 0.3282894474
                      },
                      {
                        "learn": [
                          0.3402946305
                        ],
                        "iteration": 886,
                        "passed_time": 2.554366155,
                        "remaining_time": 0.325415305
                      },
                      {
                        "learn": [
                          0.3402001673
                        ],
                        "iteration": 887,
                        "passed_time": 2.557123798,
                        "remaining_time": 0.3225201187
                      },
                      {
                        "learn": [
                          0.3400827686
                        ],
                        "iteration": 888,
                        "passed_time": 2.559849201,
                        "remaining_time": 0.3196212163
                      },
                      {
                        "learn": [
                          0.3399793609
                        ],
                        "iteration": 889,
                        "passed_time": 2.562734455,
                        "remaining_time": 0.3167424607
                      },
                      {
                        "learn": [
                          0.3398947767
                        ],
                        "iteration": 890,
                        "passed_time": 2.565482895,
                        "remaining_time": 0.3138469535
                      },
                      {
                        "learn": [
                          0.3397991938
                        ],
                        "iteration": 891,
                        "passed_time": 2.568430792,
                        "remaining_time": 0.3109759255
                      },
                      {
                        "learn": [
                          0.3396054471
                        ],
                        "iteration": 892,
                        "passed_time": 2.571169213,
                        "remaining_time": 0.3080796257
                      },
                      {
                        "learn": [
                          0.3395034944
                        ],
                        "iteration": 893,
                        "passed_time": 2.574222381,
                        "remaining_time": 0.3052209982
                      },
                      {
                        "learn": [
                          0.3394360867
                        ],
                        "iteration": 894,
                        "passed_time": 2.576930922,
                        "remaining_time": 0.3023215048
                      },
                      {
                        "learn": [
                          0.3393052483
                        ],
                        "iteration": 895,
                        "passed_time": 2.579890384,
                        "remaining_time": 0.2994515624
                      },
                      {
                        "learn": [
                          0.3391419513
                        ],
                        "iteration": 896,
                        "passed_time": 2.582860252,
                        "remaining_time": 0.2965826153
                      },
                      {
                        "learn": [
                          0.3390527327
                        ],
                        "iteration": 897,
                        "passed_time": 2.585586103,
                        "remaining_time": 0.2936857266
                      },
                      {
                        "learn": [
                          0.3389433924
                        ],
                        "iteration": 898,
                        "passed_time": 2.588314916,
                        "remaining_time": 0.2907895512
                      },
                      {
                        "learn": [
                          0.3387632263
                        ],
                        "iteration": 899,
                        "passed_time": 2.59117449,
                        "remaining_time": 0.2879082766
                      },
                      {
                        "learn": [
                          0.3386255774
                        ],
                        "iteration": 900,
                        "passed_time": 2.594078636,
                        "remaining_time": 0.2850319479
                      },
                      {
                        "learn": [
                          0.3385439403
                        ],
                        "iteration": 901,
                        "passed_time": 2.596690097,
                        "remaining_time": 0.2821237577
                      },
                      {
                        "learn": [
                          0.338223119
                        ],
                        "iteration": 902,
                        "passed_time": 2.599348798,
                        "remaining_time": 0.2792212994
                      },
                      {
                        "learn": [
                          0.3380962242
                        ],
                        "iteration": 903,
                        "passed_time": 2.602207935,
                        "remaining_time": 0.2763406656
                      },
                      {
                        "learn": [
                          0.3379782627
                        ],
                        "iteration": 904,
                        "passed_time": 2.605101616,
                        "remaining_time": 0.2734637056
                      },
                      {
                        "learn": [
                          0.337775448
                        ],
                        "iteration": 905,
                        "passed_time": 2.607843973,
                        "remaining_time": 0.2705710082
                      },
                      {
                        "learn": [
                          0.3376956882
                        ],
                        "iteration": 906,
                        "passed_time": 2.610551489,
                        "remaining_time": 0.26767507
                      },
                      {
                        "learn": [
                          0.3375326521
                        ],
                        "iteration": 907,
                        "passed_time": 2.613430496,
                        "remaining_time": 0.2647969225
                      },
                      {
                        "learn": [
                          0.3373820433
                        ],
                        "iteration": 908,
                        "passed_time": 2.61620254,
                        "remaining_time": 0.2619080651
                      },
                      {
                        "learn": [
                          0.3373162835
                        ],
                        "iteration": 909,
                        "passed_time": 2.618961906,
                        "remaining_time": 0.2590182105
                      },
                      {
                        "learn": [
                          0.3371890999
                        ],
                        "iteration": 910,
                        "passed_time": 2.621606356,
                        "remaining_time": 0.2561174157
                      },
                      {
                        "learn": [
                          0.3370666732
                        ],
                        "iteration": 911,
                        "passed_time": 2.624477588,
                        "remaining_time": 0.2532390656
                      },
                      {
                        "learn": [
                          0.3369302436
                        ],
                        "iteration": 912,
                        "passed_time": 2.627246702,
                        "remaining_time": 0.250351
                      },
                      {
                        "learn": [
                          0.3368059429
                        ],
                        "iteration": 913,
                        "passed_time": 2.629934182,
                        "remaining_time": 0.2474555138
                      },
                      {
                        "learn": [
                          0.336680474
                        ],
                        "iteration": 914,
                        "passed_time": 2.63268418,
                        "remaining_time": 0.24456629
                      },
                      {
                        "learn": [
                          0.3364426401
                        ],
                        "iteration": 915,
                        "passed_time": 2.635361794,
                        "remaining_time": 0.2416707322
                      },
                      {
                        "learn": [
                          0.336302607
                        ],
                        "iteration": 916,
                        "passed_time": 2.638070895,
                        "remaining_time": 0.2387784998
                      },
                      {
                        "learn": [
                          0.3361787922
                        ],
                        "iteration": 917,
                        "passed_time": 2.640710873,
                        "remaining_time": 0.2358804919
                      },
                      {
                        "learn": [
                          0.3360846178
                        ],
                        "iteration": 918,
                        "passed_time": 2.64345521,
                        "remaining_time": 0.2329922437
                      },
                      {
                        "learn": [
                          0.3359282805
                        ],
                        "iteration": 919,
                        "passed_time": 2.646839495,
                        "remaining_time": 0.2301599561
                      },
                      {
                        "learn": [
                          0.3357976149
                        ],
                        "iteration": 920,
                        "passed_time": 2.650063139,
                        "remaining_time": 0.2273126905
                      },
                      {
                        "learn": [
                          0.3356787386
                        ],
                        "iteration": 921,
                        "passed_time": 2.652901182,
                        "remaining_time": 0.2244319872
                      },
                      {
                        "learn": [
                          0.3355507911
                        ],
                        "iteration": 922,
                        "passed_time": 2.655875394,
                        "remaining_time": 0.221562736
                      },
                      {
                        "learn": [
                          0.3354724106
                        ],
                        "iteration": 923,
                        "passed_time": 2.658692703,
                        "remaining_time": 0.2186803522
                      },
                      {
                        "learn": [
                          0.3353791685
                        ],
                        "iteration": 924,
                        "passed_time": 2.66132949,
                        "remaining_time": 0.2157834722
                      },
                      {
                        "learn": [
                          0.3352728977
                        ],
                        "iteration": 925,
                        "passed_time": 2.664242009,
                        "remaining_time": 0.2129091886
                      },
                      {
                        "learn": [
                          0.3350449722
                        ],
                        "iteration": 926,
                        "passed_time": 2.667096318,
                        "remaining_time": 0.2100302386
                      },
                      {
                        "learn": [
                          0.3349435195
                        ],
                        "iteration": 927,
                        "passed_time": 2.669843139,
                        "remaining_time": 0.2071430022
                      },
                      {
                        "learn": [
                          0.3348202824
                        ],
                        "iteration": 928,
                        "passed_time": 2.672600075,
                        "remaining_time": 0.2042568411
                      },
                      {
                        "learn": [
                          0.3345728147
                        ],
                        "iteration": 929,
                        "passed_time": 2.67537456,
                        "remaining_time": 0.2013722787
                      },
                      {
                        "learn": [
                          0.334450586
                        ],
                        "iteration": 930,
                        "passed_time": 2.678176752,
                        "remaining_time": 0.1984900064
                      },
                      {
                        "learn": [
                          0.3342908372
                        ],
                        "iteration": 931,
                        "passed_time": 2.681019548,
                        "remaining_time": 0.1956108683
                      },
                      {
                        "learn": [
                          0.3341469846
                        ],
                        "iteration": 932,
                        "passed_time": 2.683984658,
                        "remaining_time": 0.1927405917
                      },
                      {
                        "learn": [
                          0.3339650407
                        ],
                        "iteration": 933,
                        "passed_time": 2.686766933,
                        "remaining_time": 0.1898571923
                      },
                      {
                        "learn": [
                          0.3339102163
                        ],
                        "iteration": 934,
                        "passed_time": 2.689307737,
                        "remaining_time": 0.1869572224
                      },
                      {
                        "learn": [
                          0.3338320528
                        ],
                        "iteration": 935,
                        "passed_time": 2.692244258,
                        "remaining_time": 0.1840850775
                      },
                      {
                        "learn": [
                          0.3337151032
                        ],
                        "iteration": 936,
                        "passed_time": 2.695140362,
                        "remaining_time": 0.1812100777
                      },
                      {
                        "learn": [
                          0.3336020706
                        ],
                        "iteration": 937,
                        "passed_time": 2.698035722,
                        "remaining_time": 0.1783349838
                      },
                      {
                        "learn": [
                          0.333411181
                        ],
                        "iteration": 938,
                        "passed_time": 2.700818417,
                        "remaining_time": 0.1754525276
                      },
                      {
                        "learn": [
                          0.33328124
                        ],
                        "iteration": 939,
                        "passed_time": 2.703602681,
                        "remaining_time": 0.1725703839
                      },
                      {
                        "learn": [
                          0.3331435967
                        ],
                        "iteration": 940,
                        "passed_time": 2.706395679,
                        "remaining_time": 0.1696889958
                      },
                      {
                        "learn": [
                          0.3330906846
                        ],
                        "iteration": 941,
                        "passed_time": 2.709025628,
                        "remaining_time": 0.1667977563
                      },
                      {
                        "learn": [
                          0.3329769521
                        ],
                        "iteration": 942,
                        "passed_time": 2.711883567,
                        "remaining_time": 0.1639208519
                      },
                      {
                        "learn": [
                          0.3328565977
                        ],
                        "iteration": 943,
                        "passed_time": 2.714979829,
                        "remaining_time": 0.1610581254
                      },
                      {
                        "learn": [
                          0.3327421175
                        ],
                        "iteration": 944,
                        "passed_time": 2.720461795,
                        "remaining_time": 0.1583337553
                      },
                      {
                        "learn": [
                          0.3325005277
                        ],
                        "iteration": 945,
                        "passed_time": 2.728249375,
                        "remaining_time": 0.1557351652
                      },
                      {
                        "learn": [
                          0.3323845397
                        ],
                        "iteration": 946,
                        "passed_time": 2.732602589,
                        "remaining_time": 0.1529334078
                      },
                      {
                        "learn": [
                          0.3322556291
                        ],
                        "iteration": 947,
                        "passed_time": 2.735697361,
                        "remaining_time": 0.1500593489
                      },
                      {
                        "learn": [
                          0.3320947329
                        ],
                        "iteration": 948,
                        "passed_time": 2.738442906,
                        "remaining_time": 0.1471660571
                      },
                      {
                        "learn": [
                          0.3320177284
                        ],
                        "iteration": 949,
                        "passed_time": 2.741141622,
                        "remaining_time": 0.1442706117
                      },
                      {
                        "learn": [
                          0.3319575679
                        ],
                        "iteration": 950,
                        "passed_time": 2.743797032,
                        "remaining_time": 0.1413733487
                      },
                      {
                        "learn": [
                          0.3318118967
                        ],
                        "iteration": 951,
                        "passed_time": 2.746639269,
                        "remaining_time": 0.1384860136
                      },
                      {
                        "learn": [
                          0.331747593
                        ],
                        "iteration": 952,
                        "passed_time": 2.749303789,
                        "remaining_time": 0.1355900085
                      },
                      {
                        "learn": [
                          0.3315913739
                        ],
                        "iteration": 953,
                        "passed_time": 2.752300377,
                        "remaining_time": 0.1327105003
                      },
                      {
                        "learn": [
                          0.3315236056
                        ],
                        "iteration": 954,
                        "passed_time": 2.754857875,
                        "remaining_time": 0.1298100569
                      },
                      {
                        "learn": [
                          0.3314365611
                        ],
                        "iteration": 955,
                        "passed_time": 2.757802905,
                        "remaining_time": 0.1269281672
                      },
                      {
                        "learn": [
                          0.3313080995
                        ],
                        "iteration": 956,
                        "passed_time": 2.760541912,
                        "remaining_time": 0.1240368884
                      },
                      {
                        "learn": [
                          0.331036264
                        ],
                        "iteration": 957,
                        "passed_time": 2.763394154,
                        "remaining_time": 0.1211508919
                      },
                      {
                        "learn": [
                          0.3309580801
                        ],
                        "iteration": 958,
                        "passed_time": 2.766156361,
                        "remaining_time": 0.1182611166
                      },
                      {
                        "learn": [
                          0.3308378
                        ],
                        "iteration": 959,
                        "passed_time": 2.768879357,
                        "remaining_time": 0.1153699732
                      },
                      {
                        "learn": [
                          0.3307329638
                        ],
                        "iteration": 960,
                        "passed_time": 2.77170851,
                        "remaining_time": 0.1124834879
                      },
                      {
                        "learn": [
                          0.3305966025
                        ],
                        "iteration": 961,
                        "passed_time": 2.774443716,
                        "remaining_time": 0.1095934108
                      },
                      {
                        "learn": [
                          0.3305317773
                        ],
                        "iteration": 962,
                        "passed_time": 2.777153291,
                        "remaining_time": 0.1067026706
                      },
                      {
                        "learn": [
                          0.3304313221
                        ],
                        "iteration": 963,
                        "passed_time": 2.779907684,
                        "remaining_time": 0.1038139799
                      },
                      {
                        "learn": [
                          0.3303915934
                        ],
                        "iteration": 964,
                        "passed_time": 2.782531155,
                        "remaining_time": 0.1009208191
                      },
                      {
                        "learn": [
                          0.3303363291
                        ],
                        "iteration": 965,
                        "passed_time": 2.785169718,
                        "remaining_time": 0.09802874783
                      },
                      {
                        "learn": [
                          0.33011223
                        ],
                        "iteration": 966,
                        "passed_time": 2.787976249,
                        "remaining_time": 0.095142933
                      },
                      {
                        "learn": [
                          0.3299736786
                        ],
                        "iteration": 967,
                        "passed_time": 2.790838844,
                        "remaining_time": 0.09225913535
                      },
                      {
                        "learn": [
                          0.329817262
                        ],
                        "iteration": 968,
                        "passed_time": 2.793676565,
                        "remaining_time": 0.08937458566
                      },
                      {
                        "learn": [
                          0.3296885655
                        ],
                        "iteration": 969,
                        "passed_time": 2.796425296,
                        "remaining_time": 0.0864873803
                      },
                      {
                        "learn": [
                          0.3296109479
                        ],
                        "iteration": 970,
                        "passed_time": 2.799151466,
                        "remaining_time": 0.08359978633
                      },
                      {
                        "learn": [
                          0.3293944335
                        ],
                        "iteration": 971,
                        "passed_time": 2.801861321,
                        "remaining_time": 0.0807120545
                      },
                      {
                        "learn": [
                          0.3293207615
                        ],
                        "iteration": 972,
                        "passed_time": 2.804618957,
                        "remaining_time": 0.07782601423
                      },
                      {
                        "learn": [
                          0.3292476559
                        ],
                        "iteration": 973,
                        "passed_time": 2.80717023,
                        "remaining_time": 0.07493472892
                      },
                      {
                        "learn": [
                          0.329077969
                        ],
                        "iteration": 974,
                        "passed_time": 2.80987108,
                        "remaining_time": 0.07204797641
                      },
                      {
                        "learn": [
                          0.3290352513
                        ],
                        "iteration": 975,
                        "passed_time": 2.81253848,
                        "remaining_time": 0.06916078229
                      },
                      {
                        "learn": [
                          0.3289195338
                        ],
                        "iteration": 976,
                        "passed_time": 2.815207754,
                        "remaining_time": 0.06627408223
                      },
                      {
                        "learn": [
                          0.3288521464
                        ],
                        "iteration": 977,
                        "passed_time": 2.817946999,
                        "remaining_time": 0.06338940078
                      },
                      {
                        "learn": [
                          0.3287652084
                        ],
                        "iteration": 978,
                        "passed_time": 2.820840292,
                        "remaining_time": 0.06050832086
                      },
                      {
                        "learn": [
                          0.3286424501
                        ],
                        "iteration": 979,
                        "passed_time": 2.823554122,
                        "remaining_time": 0.05762355351
                      },
                      {
                        "learn": [
                          0.3285716998
                        ],
                        "iteration": 980,
                        "passed_time": 2.826246604,
                        "remaining_time": 0.05473872117
                      },
                      {
                        "learn": [
                          0.3285190952
                        ],
                        "iteration": 981,
                        "passed_time": 2.82936177,
                        "remaining_time": 0.05186202838
                      },
                      {
                        "learn": [
                          0.3284573658
                        ],
                        "iteration": 982,
                        "passed_time": 2.831973893,
                        "remaining_time": 0.04897615074
                      },
                      {
                        "learn": [
                          0.3283349829
                        ],
                        "iteration": 983,
                        "passed_time": 2.834734332,
                        "remaining_time": 0.04609324117
                      },
                      {
                        "learn": [
                          0.328240078
                        ],
                        "iteration": 984,
                        "passed_time": 2.837515826,
                        "remaining_time": 0.0432109009
                      },
                      {
                        "learn": [
                          0.3281653437
                        ],
                        "iteration": 985,
                        "passed_time": 2.840296423,
                        "remaining_time": 0.04032875245
                      },
                      {
                        "learn": [
                          0.3280521449
                        ],
                        "iteration": 986,
                        "passed_time": 2.843040062,
                        "remaining_time": 0.037446323
                      },
                      {
                        "learn": [
                          0.3279362133
                        ],
                        "iteration": 987,
                        "passed_time": 2.84572416,
                        "remaining_time": 0.03456345133
                      },
                      {
                        "learn": [
                          0.3277340392
                        ],
                        "iteration": 988,
                        "passed_time": 2.848448221,
                        "remaining_time": 0.03168142612
                      },
                      {
                        "learn": [
                          0.3276075566
                        ],
                        "iteration": 989,
                        "passed_time": 2.851171409,
                        "remaining_time": 0.02879971121
                      },
                      {
                        "learn": [
                          0.3274965963
                        ],
                        "iteration": 990,
                        "passed_time": 2.854125754,
                        "remaining_time": 0.02592041553
                      },
                      {
                        "learn": [
                          0.3273923121
                        ],
                        "iteration": 991,
                        "passed_time": 2.860577822,
                        "remaining_time": 0.02306917599
                      },
                      {
                        "learn": [
                          0.3272995809
                        ],
                        "iteration": 992,
                        "passed_time": 2.869147249,
                        "remaining_time": 0.02022561001
                      },
                      {
                        "learn": [
                          0.3271867321
                        ],
                        "iteration": 993,
                        "passed_time": 2.871763957,
                        "remaining_time": 0.01733459129
                      },
                      {
                        "learn": [
                          0.3269693668
                        ],
                        "iteration": 994,
                        "passed_time": 2.874502913,
                        "remaining_time": 0.01444473826
                      },
                      {
                        "learn": [
                          0.3268612137
                        ],
                        "iteration": 995,
                        "passed_time": 2.877264538,
                        "remaining_time": 0.01155527927
                      },
                      {
                        "learn": [
                          0.3268141182
                        ],
                        "iteration": 996,
                        "passed_time": 2.880009258,
                        "remaining_time": 0.008666025853
                      },
                      {
                        "learn": [
                          0.3266838758
                        ],
                        "iteration": 997,
                        "passed_time": 2.882690367,
                        "remaining_time": 0.005776934603
                      },
                      {
                        "learn": [
                          0.3266285592
                        ],
                        "iteration": 998,
                        "passed_time": 2.885354537,
                        "remaining_time": 0.002888242779
                      },
                      {
                        "learn": [
                          0.3265312045
                        ],
                        "iteration": 999,
                        "passed_time": 2.888247982,
                        "remaining_time": 0
                      }
                    ],
                    "meta": {
                      "test_sets": [],
                      "test_metrics": [],
                      "learn_metrics": [
                        {
                          "best_value": "Min",
                          "name": "RMSE"
                        }
                      ],
                      "launch_mode": "Train",
                      "parameters": "",
                      "iteration_count": 1000,
                      "learn_sets": [
                        "learn"
                      ],
                      "name": "experiment"
                    }
                  }
                }
              }
            },
            "layout": "IPY_MODEL_3347806c55504b278bb3e32adca48df5"
          }
        }
      }
    }
  },
  "cells": [
    {
      "cell_type": "code",
      "execution_count": 1,
      "metadata": {
        "id": "VR1K6l-BB9B1"
      },
      "outputs": [],
      "source": [
        "import pandas as pd\n",
        "from pandas import read_csv\n",
        "\n",
        "# dataset read and preprocessing\n",
        "path = \"sample_data/train.csv\"\n",
        "data = pd.read_csv(path)\n",
        "\n",
        "data=data.drop([\"tracking_id\",\"datetime\",\"turbine_status\",\"cloud_level\"],axis=1)\n",
        "data.dropna(inplace=True)\n",
        "\n",
        "X=data.drop(\"windmill_generated_power(kW/h)\",axis=1)\n",
        "Y=data[\"windmill_generated_power(kW/h)\"]\n",
        "\n",
        "# Feature selection\n",
        "from sklearn.feature_selection import RFE\n",
        "from sklearn.tree import DecisionTreeRegressor\n",
        "rfe = RFE(estimator=DecisionTreeRegressor(), n_features_to_select=7)\n",
        "Feature=rfe.fit(X,Y)\n",
        "\n",
        "# removing false features\n",
        "shortlist=[]\n",
        "for i in range(17):\n",
        "  if(Feature.support_[i]==False):\n",
        "    shortlist.append(X.columns[i])\n",
        "shortlist \n",
        "X=X.drop(shortlist,axis=1)\n",
        "\n",
        "# train-test split\n",
        "from sklearn.model_selection import train_test_split\n",
        "X_train, X_test, y_train, y_test = train_test_split(X, Y, test_size= 0.2, random_state=2)\n"
      ]
    },
    {
      "cell_type": "markdown",
      "source": [
        "INDIVIDUAL SCORES OF ALL ALGORITHMS"
      ],
      "metadata": {
        "id": "hfAVGsTqqib6"
      }
    },
    {
      "cell_type": "code",
      "source": [
        "from sklearn.tree import DecisionTreeRegressor\n",
        "from sklearn.ensemble import AdaBoostRegressor\n",
        "import lightgbm as lgb\n",
        "from catboost import CatBoostRegressor\n",
        "import xgboost as xgb\n",
        "from sklearn.ensemble import RandomForestRegressor\n",
        "from sklearn.tree import DecisionTreeRegressor\n",
        "from sklearn.ensemble import GradientBoostingRegressor\n",
        "\n",
        "# ADABoost\n",
        "ADAboost = AdaBoostRegressor(DecisionTreeRegressor(),n_estimators=100,learning_rate=1)\n",
        "ADAboost.fit(X_train, y_train)\n",
        "print('ADABoost : '+ str(ADAboost.score(X_test, y_test)))\n",
        "\n",
        "# LGBM\n",
        "lgbm = lgb.LGBMRegressor(boosting_type='gbdt',learning_rate=0.1,feature_fraction=0.9)\n",
        "lgbm.fit(X_train, y_train)\n",
        "print('LGBMoost : '+ str(lgbm.score(X_test, y_test)))\n",
        "\n",
        "# CB\n",
        "catB = CatBoostRegressor(verbose=False)\n",
        "catB.fit(X_train,y_train,verbose=False, plot=True)\n",
        "print('CatBoost : '+ str(catB.score(X_test, y_test)))\n",
        "\n",
        "# XGBoost\n",
        "xg_reg = xgb.XGBRegressor(objective ='reg:squarederror', learning_rate = 0.4, n_estimators = 100,seed=13)\n",
        "xg_reg.fit(X_train, y_train)\n",
        "print('XGBoost : '+ str(xg_reg.score(X_test, y_test)))\n",
        "\n",
        "# RF\n",
        "rf= RandomForestRegressor(n_estimators= 100)  \n",
        "rf.fit(X_train, y_train)\n",
        "print('Random Forest : '+ str(rf.score(X_test, y_test)))\n",
        "\n",
        "# DT\n",
        "dt = DecisionTreeRegressor()\n",
        "dt.fit(X_train,y_train)\n",
        "print('DT : '+ str(dt.score(X_test, y_test)))\n",
        "\n",
        "# GB\n",
        "gb = GradientBoostingRegressor(n_estimators=500, learning_rate=1, max_depth=1)\n",
        "gb.fit(X_train, y_train)\n",
        "print('GB : '+ str(gb.score(X_test, y_test)))"
      ],
      "metadata": {
        "colab": {
          "base_uri": "https://localhost:8080/",
          "height": 136,
          "referenced_widgets": [
            "38d015d5173f4ecb83ebec4460ce5e6b"
          ]
        },
        "id": "7AWnYVp_qfOs",
        "outputId": "7953d824-ae37-411f-ab13-572abd39aaab"
      },
      "execution_count": 2,
      "outputs": [
        {
          "output_type": "stream",
          "name": "stdout",
          "text": [
            "ADABoost : 0.9411407041202939\n",
            "LGBMoost : 0.9426259416282259\n"
          ]
        },
        {
          "output_type": "display_data",
          "data": {
            "text/plain": [
              "MetricVisualizer(layout=Layout(align_self='stretch', height='500px'))"
            ],
            "application/vnd.jupyter.widget-view+json": {
              "version_major": 2,
              "version_minor": 0,
              "model_id": "38d015d5173f4ecb83ebec4460ce5e6b"
            }
          },
          "metadata": {}
        },
        {
          "output_type": "stream",
          "name": "stdout",
          "text": [
            "CatBoost : 0.947228694408439\n",
            "XGBoost : 0.9436688663803452\n",
            "Random Forest : 0.9411319885776612\n",
            "DT : 0.9145767546488857\n",
            "GB : 0.9131815392575608\n"
          ]
        }
      ]
    },
    {
      "cell_type": "markdown",
      "source": [
        "STACKING NEW\n",
        "(L0 : CB, RF, ADAB, LGBM)\n",
        "(L1 : XGB)"
      ],
      "metadata": {
        "id": "D0gBkY1wnNjf"
      }
    },
    {
      "cell_type": "code",
      "source": [
        "from sklearn.ensemble import StackingRegressor\n",
        "\n",
        "list0=[('CB', catB),('RF', rf),('ADAB',ADAboost),('lgbm',lgbm)]\n",
        "level1 = xg_reg\n",
        "model = StackingRegressor(estimators=list0, final_estimator=level1, cv=5)\n",
        "print('Stacking : '+ str(model.fit(X_train, y_train).score(X_test, y_test)))"
      ],
      "metadata": {
        "colab": {
          "base_uri": "https://localhost:8080/"
        },
        "id": "ip9i7lvImsLe",
        "outputId": "cc59da29-78ae-4940-e943-fddfa97ef5d0"
      },
      "execution_count": 3,
      "outputs": [
        {
          "output_type": "stream",
          "name": "stdout",
          "text": [
            "Stacking : 0.9508482063246649\n"
          ]
        }
      ]
    },
    {
      "cell_type": "markdown",
      "source": [
        "STACKING NEW\n",
        "(L0 : CB, XGB, ADAB, LGBM)\n",
        "(L1 : RF)"
      ],
      "metadata": {
        "id": "C3rT082AwKXY"
      }
    },
    {
      "cell_type": "code",
      "source": [
        "from sklearn.ensemble import StackingRegressor\n",
        "\n",
        "list0=[('CB', catB),('XGB', xg_reg),('ADAB',ADAboost),('lgbm',lgbm)]\n",
        "level1 = rf\n",
        "model = StackingRegressor(estimators=list0, final_estimator=level1, cv=5)\n",
        "print('Stacking : '+ str(model.fit(X_train, y_train).score(X_test, y_test)))"
      ],
      "metadata": {
        "colab": {
          "base_uri": "https://localhost:8080/"
        },
        "id": "1AKTLnZCwH-g",
        "outputId": "a64489b8-76b4-4f7b-8e0a-5fb3f9992007"
      },
      "execution_count": 4,
      "outputs": [
        {
          "output_type": "stream",
          "name": "stdout",
          "text": [
            "Stacking : 0.9457774276841668\n"
          ]
        }
      ]
    },
    {
      "cell_type": "markdown",
      "source": [
        "STACKING NEW\n",
        "(L0 : CB, XGB, ADAB, RF)\n",
        "(L1 : LGBM)"
      ],
      "metadata": {
        "id": "dCIzEavTxK2a"
      }
    },
    {
      "cell_type": "code",
      "source": [
        "from sklearn.ensemble import StackingRegressor\n",
        "\n",
        "list0=[('CB', catB),('RF', rf),('ADAB',ADAboost),('XGB',xg_reg)]\n",
        "level1 = lgbm\n",
        "model = StackingRegressor(estimators=list0, final_estimator=level1, cv=5)\n",
        "print('Stacking : '+ str(model.fit(X_train, y_train).score(X_test, y_test)))"
      ],
      "metadata": {
        "colab": {
          "base_uri": "https://localhost:8080/"
        },
        "id": "E5-cLS1txLgF",
        "outputId": "41c43a50-c733-4044-da79-c48bd3b503c8"
      },
      "execution_count": 5,
      "outputs": [
        {
          "output_type": "stream",
          "name": "stdout",
          "text": [
            "Stacking : 0.9474025625891626\n"
          ]
        }
      ]
    },
    {
      "cell_type": "markdown",
      "source": [
        "STACKING NEW\n",
        "(L0 : CB, LGBM, ADAB, RF)\n",
        "(L1 : Ridge)"
      ],
      "metadata": {
        "id": "ulG_Qg8XywyW"
      }
    },
    {
      "cell_type": "code",
      "source": [
        "from sklearn.linear_model import Ridge\n",
        "from sklearn.ensemble import StackingRegressor\n",
        "\n",
        "ridgeR = Ridge(alpha = 1)\n",
        "list0=[('CB', catB),('RF', rf),('ADAB',ADAboost),('LGBM',lgbm)]\n",
        "level1 = ridgeR\n",
        "model = StackingRegressor(estimators=list0, final_estimator=level1, cv=5)\n",
        "print('Stacking : '+ str(model.fit(X_train, y_train).score(X_test, y_test)))"
      ],
      "metadata": {
        "colab": {
          "base_uri": "https://localhost:8080/"
        },
        "id": "iE04Ss3uyxQk",
        "outputId": "de99e25c-ae3c-4fb7-acc8-18ea446e95fc"
      },
      "execution_count": 6,
      "outputs": [
        {
          "output_type": "stream",
          "name": "stdout",
          "text": [
            "Stacking : 0.9465633587606096\n"
          ]
        }
      ]
    },
    {
      "cell_type": "markdown",
      "source": [
        "STACKING NEW\n",
        "(L0 : CB, LGBM, ADAB, RF)\n",
        "(L1 : Lasso)"
      ],
      "metadata": {
        "id": "9AXL2S3tz8xH"
      }
    },
    {
      "cell_type": "code",
      "source": [
        "from sklearn.linear_model import Lasso\n",
        " \n",
        "lasso = Lasso(alpha = 1)\n",
        "list0=[('CB', catB),('RF', rf),('ADAB',ADAboost),('LGBM',lgbm)]\n",
        "level1 = lasso\n",
        "model = StackingRegressor(estimators=list0, final_estimator=level1, cv=5)\n",
        "print('Stacking : '+ str(model.fit(X_train, y_train).score(X_test, y_test)))"
      ],
      "metadata": {
        "colab": {
          "base_uri": "https://localhost:8080/"
        },
        "id": "Un_l02xwz9bF",
        "outputId": "f35da434-8e09-44c2-a137-9bce70702c7a"
      },
      "execution_count": 7,
      "outputs": [
        {
          "output_type": "stream",
          "name": "stdout",
          "text": [
            "Stacking : 0.926503754821175\n"
          ]
        }
      ]
    },
    {
      "cell_type": "markdown",
      "source": [
        "STACKING NEW\n",
        "(L0 : CB, LGBM, ADAB, RF)\n",
        "(L1 : ElasticNet)"
      ],
      "metadata": {
        "id": "LVOViLLA0N47"
      }
    },
    {
      "cell_type": "code",
      "source": [
        "from sklearn.linear_model import ElasticNet\n",
        "\n",
        "e_net = ElasticNet(alpha = 1)\n",
        "list0=[('CB', catB),('RF', rf),('ADAB',ADAboost),('LGBM',lgbm)]\n",
        "level1 = e_net\n",
        "model = StackingRegressor(estimators=list0, final_estimator=level1, cv=5)\n",
        "print('Stacking : '+ str(model.fit(X_train, y_train).score(X_test, y_test)))"
      ],
      "metadata": {
        "colab": {
          "base_uri": "https://localhost:8080/"
        },
        "id": "j0FOrOwV0OgM",
        "outputId": "74c0c337-f1eb-45f0-d158-23199975bf50"
      },
      "execution_count": 8,
      "outputs": [
        {
          "output_type": "stream",
          "name": "stdout",
          "text": [
            "Stacking : 0.9392181090973569\n"
          ]
        }
      ]
    },
    {
      "cell_type": "markdown",
      "source": [
        "STACKING NEW\n",
        "(L0 : CB, LGBM, ADAB, RF)\n",
        "(L1 : LR)"
      ],
      "metadata": {
        "id": "GpFgf2WMUbwL"
      }
    },
    {
      "cell_type": "code",
      "source": [
        "from sklearn.linear_model import LinearRegression\n",
        "\n",
        "LR = LinearRegression()\n",
        "list0=[('CB', catB),('RF', rf),('ADAB',ADAboost),('LGBM',lgbm)]\n",
        "level1 = LR\n",
        "model = StackingRegressor(estimators=list0, final_estimator=level1, cv=5)\n",
        "print('Stacking : '+ str(model.fit(X_train, y_train).score(X_test, y_test)))"
      ],
      "metadata": {
        "colab": {
          "base_uri": "https://localhost:8080/"
        },
        "id": "KMYNNIww3vS1",
        "outputId": "4d404342-502e-4e04-fd59-9166e93e599c"
      },
      "execution_count": 9,
      "outputs": [
        {
          "output_type": "stream",
          "name": "stdout",
          "text": [
            "Stacking : 0.946667778159189\n"
          ]
        }
      ]
    }
  ]
}